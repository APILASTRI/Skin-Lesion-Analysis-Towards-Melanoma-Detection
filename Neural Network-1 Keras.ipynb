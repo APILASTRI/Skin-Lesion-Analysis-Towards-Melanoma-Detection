{
 "cells": [
  {
   "cell_type": "code",
   "execution_count": 1,
   "metadata": {
    "collapsed": false,
    "deletable": true,
    "editable": true
   },
   "outputs": [
    {
     "name": "stderr",
     "output_type": "stream",
     "text": [
      "Using TensorFlow backend.\n",
      "/home/edward/anaconda2/lib/python2.7/site-packages/sklearn/cross_validation.py:44: DeprecationWarning: This module was deprecated in version 0.18 in favor of the model_selection module into which all the refactored classes and functions are moved. Also note that the interface of the new CV iterators are different from that of this module. This module will be removed in 0.20.\n",
      "  \"This module will be removed in 0.20.\", DeprecationWarning)\n"
     ]
    }
   ],
   "source": [
    "import cv2\n",
    "import Tkinter as tk\n",
    "import tkFileDialog\n",
    "import os\n",
    "import numpy as np\n",
    "import tensorflow as tf\n",
    "import pandas as pd\n",
    "import matplotlib.pyplot as plt\n",
    "from sklearn.preprocessing import LabelEncoder\n",
    "from keras.utils import np_utils\n",
    "from keras.models import Sequential\n",
    "from keras.layers import  Flatten, Dense, Activation\n",
    "from sklearn.cross_validation import train_test_split\n",
    "from keras.optimizers import Adam\n",
    "from keras.callbacks import EarlyStopping\n",
    "from keras import backend as K\n",
    "import random\n",
    "%matplotlib inline"
   ]
  },
  {
   "cell_type": "code",
   "execution_count": 2,
   "metadata": {
    "collapsed": false,
    "deletable": true,
    "editable": true
   },
   "outputs": [],
   "source": [
    "def load_images(folder):\n",
    "        image_list=[]\n",
    "        for filename in os.listdir(folder):\n",
    "            img=cv2.imread(os.path.join(folder,filename))\n",
    "            if img is not None:\n",
    "                image_list.append(img)\n",
    "        return image_list"
   ]
  },
  {
   "cell_type": "code",
   "execution_count": 3,
   "metadata": {
    "collapsed": false,
    "deletable": true,
    "editable": true
   },
   "outputs": [
    {
     "name": "stdout",
     "output_type": "stream",
     "text": [
      "/home/edward/project /Untitled Folder\n"
     ]
    }
   ],
   "source": [
    "tk.Tk().withdraw()\n",
    "path=tkFileDialog.askdirectory()\n",
    "print path\n"
   ]
  },
  {
   "cell_type": "code",
   "execution_count": 4,
   "metadata": {
    "collapsed": true
   },
   "outputs": [],
   "source": [
    "image=load_images(path)"
   ]
  },
  {
   "cell_type": "code",
   "execution_count": 5,
   "metadata": {
    "collapsed": true,
    "deletable": true,
    "editable": true
   },
   "outputs": [],
   "source": [
    "data=pd.read_csv(\"/home/edward/Skin Cancer Data/ISIC-2017_Training_Part3_GroundTruth.csv\")"
   ]
  },
  {
   "cell_type": "code",
   "execution_count": 6,
   "metadata": {
    "collapsed": false,
    "deletable": true,
    "editable": true
   },
   "outputs": [
    {
     "data": {
      "text/plain": [
       "0    0\n",
       "1    0\n",
       "2    1\n",
       "3    0\n",
       "4    1\n",
       "Name: melanoma, dtype: int64"
      ]
     },
     "execution_count": 6,
     "metadata": {},
     "output_type": "execute_result"
    }
   ],
   "source": [
    "data['melanoma'].head()"
   ]
  },
  {
   "cell_type": "code",
   "execution_count": 7,
   "metadata": {
    "collapsed": false,
    "deletable": true,
    "editable": true
   },
   "outputs": [],
   "source": [
    "def resize_images(images):\n",
    "    resize_image=[]\n",
    "    for image in images:\n",
    "        imag=cv2.resize(image,(64,64))\n",
    "        resize_image.append(imag)\n",
    "    return resize_image"
   ]
  },
  {
   "cell_type": "code",
   "execution_count": 8,
   "metadata": {
    "collapsed": false,
    "deletable": true,
    "editable": true
   },
   "outputs": [],
   "source": [
    "image=resize_images(image)\n",
    "image=np.array(image)\n",
    "X=image"
   ]
  },
  {
   "cell_type": "code",
   "execution_count": 9,
   "metadata": {
    "collapsed": false,
    "deletable": true,
    "editable": true
   },
   "outputs": [
    {
     "data": {
      "text/plain": [
       "(100, 64, 64, 3)"
      ]
     },
     "execution_count": 9,
     "metadata": {},
     "output_type": "execute_result"
    }
   ],
   "source": [
    "X.shape"
   ]
  },
  {
   "cell_type": "code",
   "execution_count": 10,
   "metadata": {
    "collapsed": false
   },
   "outputs": [
    {
     "data": {
      "text/plain": [
       "(100,)"
      ]
     },
     "execution_count": 10,
     "metadata": {},
     "output_type": "execute_result"
    }
   ],
   "source": [
    "data=data.iloc[0:100,1]\n",
    "data.shape"
   ]
  },
  {
   "cell_type": "code",
   "execution_count": 11,
   "metadata": {
    "collapsed": true
   },
   "outputs": [],
   "source": [
    "y = LabelEncoder().fit_transform(data)\n",
    "y = np_utils.to_categorical(y)"
   ]
  },
  {
   "cell_type": "code",
   "execution_count": null,
   "metadata": {
    "collapsed": true
   },
   "outputs": [],
   "source": [
    "?train_test_split"
   ]
  },
  {
   "cell_type": "code",
   "execution_count": 12,
   "metadata": {
    "collapsed": false,
    "deletable": true,
    "editable": true
   },
   "outputs": [],
   "source": [
    "X_train,X_test,y_train,y_test=train_test_split(X,y,test_size=0.2,random_state=2)"
   ]
  },
  {
   "cell_type": "code",
   "execution_count": 13,
   "metadata": {
    "collapsed": false
   },
   "outputs": [
    {
     "data": {
      "text/plain": [
       "(80, 2)"
      ]
     },
     "execution_count": 13,
     "metadata": {},
     "output_type": "execute_result"
    }
   ],
   "source": [
    "y.shape\n",
    "y_train.shape"
   ]
  },
  {
   "cell_type": "code",
   "execution_count": null,
   "metadata": {
    "collapsed": false
   },
   "outputs": [],
   "source": [
    "Dense(56,input_dim=100,activation='sigmoid')"
   ]
  },
  {
   "cell_type": "code",
   "execution_count": 28,
   "metadata": {
    "collapsed": false
   },
   "outputs": [],
   "source": [
    "Optimizer=Adam(lr=0.001)\n",
    "objective='binary_crossentropy'\n",
    "def center_normalize(x):\n",
    "    return (x-K.mean(x))/K.std(x)\n",
    "model=Sequential()\n",
    "model.add(Activation(activation=center_normalize, input_shape=(64, 64,3)))\n",
    "model.add(Flatten())\n",
    "model.add(Dense(56, activation='sigmoid'))\n",
    "\n",
    "\n",
    "model.add(Dense(56, activation='sigmoid'))\n",
    "\n",
    "\n",
    "model.add(Dense(y_train.shape[1]))\n",
    "model.add(Activation('sigmoid'))\n",
    "model.compile(loss=objective,optimizer=Optimizer,metrics=['accuracy'])"
   ]
  },
  {
   "cell_type": "code",
   "execution_count": 29,
   "metadata": {
    "collapsed": false
   },
   "outputs": [
    {
     "name": "stdout",
     "output_type": "stream",
     "text": [
      "Epoch 1/50\n",
      "80/80 [==============================] - 0s - loss: 0.6460 - acc: 0.5688\n",
      "Epoch 2/50\n",
      "80/80 [==============================] - 0s - loss: 0.5126 - acc: 0.8125\n",
      "Epoch 3/50\n",
      "80/80 [==============================] - 0s - loss: 0.4970 - acc: 0.8125\n",
      "Epoch 4/50\n",
      "80/80 [==============================] - 0s - loss: 0.4897 - acc: 0.8125\n",
      "Epoch 5/50\n",
      "80/80 [==============================] - 0s - loss: 0.4837 - acc: 0.8125\n",
      "Epoch 6/50\n",
      "80/80 [==============================] - 0s - loss: 0.4787 - acc: 0.8125\n",
      "Epoch 7/50\n",
      "80/80 [==============================] - 0s - loss: 0.4748 - acc: 0.8125\n",
      "Epoch 8/50\n",
      "80/80 [==============================] - 0s - loss: 0.4718 - acc: 0.8125\n",
      "Epoch 9/50\n",
      "80/80 [==============================] - 0s - loss: 0.4695 - acc: 0.8125\n",
      "Epoch 10/50\n",
      "80/80 [==============================] - 0s - loss: 0.4676 - acc: 0.8125\n",
      "Epoch 11/50\n",
      "80/80 [==============================] - 0s - loss: 0.4664 - acc: 0.8125\n",
      "Epoch 12/50\n",
      "80/80 [==============================] - 0s - loss: 0.4656 - acc: 0.8125\n",
      "Epoch 13/50\n",
      "80/80 [==============================] - 0s - loss: 0.4650 - acc: 0.8125\n",
      "Epoch 14/50\n",
      "80/80 [==============================] - 0s - loss: 0.4645 - acc: 0.8125\n",
      "Epoch 15/50\n",
      "80/80 [==============================] - 0s - loss: 0.4640 - acc: 0.8125\n",
      "Epoch 16/50\n",
      "80/80 [==============================] - 0s - loss: 0.4638 - acc: 0.8188\n",
      "Epoch 17/50\n",
      "80/80 [==============================] - 0s - loss: 0.4637 - acc: 0.8188\n",
      "Epoch 18/50\n",
      "80/80 [==============================] - 0s - loss: 0.4636 - acc: 0.8188\n",
      "Epoch 19/50\n",
      "80/80 [==============================] - 0s - loss: 0.4634 - acc: 0.8188\n",
      "Epoch 20/50\n",
      "80/80 [==============================] - 0s - loss: 0.4632 - acc: 0.8188\n",
      "Epoch 21/50\n",
      "80/80 [==============================] - 0s - loss: 0.4629 - acc: 0.8313\n",
      "Epoch 22/50\n",
      "80/80 [==============================] - 0s - loss: 0.4625 - acc: 0.8313\n",
      "Epoch 23/50\n",
      "80/80 [==============================] - 0s - loss: 0.4620 - acc: 0.8313\n",
      "Epoch 24/50\n",
      "80/80 [==============================] - 0s - loss: 0.4614 - acc: 0.8313\n",
      "Epoch 25/50\n",
      "80/80 [==============================] - 0s - loss: 0.4608 - acc: 0.8250\n",
      "Epoch 26/50\n",
      "80/80 [==============================] - 0s - loss: 0.4603 - acc: 0.8250\n",
      "Epoch 27/50\n",
      "80/80 [==============================] - 0s - loss: 0.4597 - acc: 0.8250\n",
      "Epoch 28/50\n",
      "80/80 [==============================] - 0s - loss: 0.4590 - acc: 0.8250\n",
      "Epoch 29/50\n",
      "80/80 [==============================] - 0s - loss: 0.4584 - acc: 0.8250\n",
      "Epoch 30/50\n",
      "80/80 [==============================] - 0s - loss: 0.4577 - acc: 0.8250\n",
      "Epoch 31/50\n",
      "80/80 [==============================] - 0s - loss: 0.4570 - acc: 0.8250\n",
      "Epoch 32/50\n",
      "80/80 [==============================] - 0s - loss: 0.4563 - acc: 0.8250\n",
      "Epoch 33/50\n",
      "80/80 [==============================] - 0s - loss: 0.4557 - acc: 0.8250\n",
      "Epoch 34/50\n",
      "80/80 [==============================] - 0s - loss: 0.4550 - acc: 0.8250\n",
      "Epoch 35/50\n",
      "80/80 [==============================] - 0s - loss: 0.4544 - acc: 0.8250\n",
      "Epoch 36/50\n",
      "80/80 [==============================] - 0s - loss: 0.4539 - acc: 0.8250\n",
      "Epoch 37/50\n",
      "80/80 [==============================] - 0s - loss: 0.4534 - acc: 0.8250\n",
      "Epoch 38/50\n",
      "80/80 [==============================] - 0s - loss: 0.4528 - acc: 0.8250\n",
      "Epoch 39/50\n",
      "80/80 [==============================] - 0s - loss: 0.4523 - acc: 0.8250\n",
      "Epoch 40/50\n",
      "80/80 [==============================] - 0s - loss: 0.4518 - acc: 0.8250\n",
      "Epoch 41/50\n",
      "80/80 [==============================] - 0s - loss: 0.4513 - acc: 0.8250\n",
      "Epoch 42/50\n",
      "80/80 [==============================] - 0s - loss: 0.4506 - acc: 0.8250\n",
      "Epoch 43/50\n",
      "80/80 [==============================] - 0s - loss: 0.4497 - acc: 0.8250\n",
      "Epoch 44/50\n",
      "80/80 [==============================] - 0s - loss: 0.4490 - acc: 0.8250\n",
      "Epoch 45/50\n",
      "80/80 [==============================] - 0s - loss: 0.4484 - acc: 0.8250\n",
      "Epoch 46/50\n",
      "80/80 [==============================] - 0s - loss: 0.4477 - acc: 0.8250\n",
      "Epoch 47/50\n",
      "80/80 [==============================] - 0s - loss: 0.4470 - acc: 0.8250\n",
      "Epoch 48/50\n",
      "80/80 [==============================] - 0s - loss: 0.4463 - acc: 0.8250\n",
      "Epoch 49/50\n",
      "80/80 [==============================] - 0s - loss: 0.4456 - acc: 0.8250\n",
      "Epoch 50/50\n",
      "80/80 [==============================] - 0s - loss: 0.4450 - acc: 0.8250\n"
     ]
    },
    {
     "data": {
      "text/plain": [
       "<keras.callbacks.History at 0x7f33003750d0>"
      ]
     },
     "execution_count": 29,
     "metadata": {},
     "output_type": "execute_result"
    }
   ],
   "source": [
    "#early_stopping=\n",
    "model.fit(X_train,y_train,batch_size=100,nb_epoch=50,verbose=1)"
   ]
  },
  {
   "cell_type": "code",
   "execution_count": 30,
   "metadata": {
    "collapsed": false
   },
   "outputs": [
    {
     "name": "stdout",
     "output_type": "stream",
     "text": [
      "20/20 [==============================] - 0s\n",
      "\n",
      "acc: 75.00%\n"
     ]
    }
   ],
   "source": [
    "scores = model.evaluate(X_test, y_test)\n",
    "print \"\\n%s: %.2f%%\" % (model.metrics_names[1], scores[1]*100)"
   ]
  },
  {
   "cell_type": "code",
   "execution_count": null,
   "metadata": {
    "collapsed": true
   },
   "outputs": [],
   "source": []
  }
 ],
 "metadata": {
  "kernelspec": {
   "display_name": "Python 2",
   "language": "python",
   "name": "python2"
  },
  "language_info": {
   "codemirror_mode": {
    "name": "ipython",
    "version": 2
   },
   "file_extension": ".py",
   "mimetype": "text/x-python",
   "name": "python",
   "nbconvert_exporter": "python",
   "pygments_lexer": "ipython2",
   "version": "2.7.13"
  }
 },
 "nbformat": 4,
 "nbformat_minor": 2
}
