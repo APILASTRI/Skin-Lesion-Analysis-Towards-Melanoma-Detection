{
 "cells": [
  {
   "cell_type": "code",
   "execution_count": 1,
   "metadata": {},
   "outputs": [
    {
     "name": "stderr",
     "output_type": "stream",
     "text": [
      "Using TensorFlow backend.\n"
     ]
    }
   ],
   "source": [
    "import cv2\n",
    "import Tkinter as tk\n",
    "import tkFileDialog\n",
    "import os\n",
    "import numpy as np\n",
    "import tensorflow as tf\n",
    "import pandas as pd\n",
    "import matplotlib.pyplot as plt\n",
    "from sklearn.preprocessing import LabelEncoder\n",
    "from Preprocessing import load_images\n",
    "from keras.utils import np_utils\n",
    "%matplotlib inline"
   ]
  },
  {
   "cell_type": "code",
   "execution_count": 2,
   "metadata": {},
   "outputs": [
    {
     "name": "stdout",
     "output_type": "stream",
     "text": [
      "/home/edward/project /Dataset/Training Images\n"
     ]
    }
   ],
   "source": [
    "tk.Tk().withdraw()\n",
    "path_Train=tkFileDialog.askdirectory()\n",
    "print path_Train"
   ]
  },
  {
   "cell_type": "code",
   "execution_count": 3,
   "metadata": {
    "collapsed": true
   },
   "outputs": [],
   "source": [
    "X_Train=load_images(path_Train)"
   ]
  },
  {
   "cell_type": "code",
   "execution_count": 4,
   "metadata": {},
   "outputs": [
    {
     "data": {
      "text/plain": [
       "(2000, 64, 64, 3)"
      ]
     },
     "execution_count": 4,
     "metadata": {},
     "output_type": "execute_result"
    }
   ],
   "source": [
    "X_Train=np.array(X_Train)\n",
    "X_Train.shape"
   ]
  },
  {
   "cell_type": "code",
   "execution_count": 5,
   "metadata": {},
   "outputs": [
    {
     "data": {
      "text/plain": [
       "(2000, 12288)"
      ]
     },
     "execution_count": 5,
     "metadata": {},
     "output_type": "execute_result"
    }
   ],
   "source": [
    "X_Train=np.reshape(X_Train,[-1,np.prod(X_Train.shape[1:])])\n",
    "X_Train.shape"
   ]
  },
  {
   "cell_type": "code",
   "execution_count": 6,
   "metadata": {},
   "outputs": [
    {
     "name": "stdout",
     "output_type": "stream",
     "text": [
      "/home/edward/project /Dataset/Validation Images\n"
     ]
    }
   ],
   "source": [
    "tk.Tk().withdraw()\n",
    "path_Validation=tkFileDialog.askdirectory()\n",
    "print path_Validation"
   ]
  },
  {
   "cell_type": "code",
   "execution_count": 7,
   "metadata": {},
   "outputs": [
    {
     "data": {
      "text/plain": [
       "(150, 64, 64, 3)"
      ]
     },
     "execution_count": 7,
     "metadata": {},
     "output_type": "execute_result"
    }
   ],
   "source": [
    "X_Test=load_images(path_Validation)\n",
    "X_Test=np.array(X_Test)\n",
    "X_Test.shape"
   ]
  },
  {
   "cell_type": "code",
   "execution_count": 8,
   "metadata": {},
   "outputs": [
    {
     "data": {
      "text/plain": [
       "(150, 12288)"
      ]
     },
     "execution_count": 8,
     "metadata": {},
     "output_type": "execute_result"
    }
   ],
   "source": [
    "X_Test=np.reshape(X_Test,[-1,np.prod(X_Test.shape[1:])])\n",
    "X_Test.shape"
   ]
  },
  {
   "cell_type": "code",
   "execution_count": 9,
   "metadata": {
    "collapsed": true
   },
   "outputs": [],
   "source": [
    "data_Train=pd.read_csv(\"/home/edward/Skin Cancer Data/ISIC-2017_Training_Part3_GroundTruth.csv\")\n",
    "data_Test=pd.read_csv(\"/home/edward/Skin Cancer Data/ISIC-2017_Validation_Part3_GroundTruth.csv\")"
   ]
  },
  {
   "cell_type": "code",
   "execution_count": 10,
   "metadata": {},
   "outputs": [
    {
     "name": "stdout",
     "output_type": "stream",
     "text": [
      "(2000,)\n",
      "(150,)\n"
     ]
    }
   ],
   "source": [
    "data_Train=data_Train.iloc[0:2000,1]\n",
    "data_Test=data_Test.iloc[0:150,1]\n",
    "print data_Train.shape\n",
    "print data_Test.shape"
   ]
  },
  {
   "cell_type": "code",
   "execution_count": 11,
   "metadata": {
    "collapsed": true
   },
   "outputs": [],
   "source": [
    "y_Train=data_Train\n",
    "y_test=data_Test"
   ]
  },
  {
   "cell_type": "code",
   "execution_count": 12,
   "metadata": {
    "collapsed": true
   },
   "outputs": [],
   "source": [
    "y_Train=np.array(y_Train)\n",
    "y_Test=np.array(y_test)"
   ]
  },
  {
   "cell_type": "code",
   "execution_count": 13,
   "metadata": {},
   "outputs": [
    {
     "name": "stdout",
     "output_type": "stream",
     "text": [
      "(2000, 2)\n",
      "(150, 2)\n"
     ]
    }
   ],
   "source": [
    "y_Train = np_utils.to_categorical(data_Train)\n",
    "y_Test = np_utils.to_categorical(data_Test)\n",
    "print y_Train.shape\n",
    "print y_Test.shape"
   ]
  },
  {
   "cell_type": "code",
   "execution_count": 14,
   "metadata": {
    "collapsed": true
   },
   "outputs": [],
   "source": [
    "learning_rate=0.001\n",
    "training_epoch=15\n",
    "batch_size=100\n",
    "display_step=1\n",
    "logs_path = '/tmp/tensorflow_logs/example'\n",
    "n_hidden_1=256\n",
    "n_hidden_2=256\n",
    "#n_hidden_3=256\n",
    "#n_hidden_4=256\n",
    "n_input=64*64*3\n",
    "n_classes=2\n",
    "\n",
    "x=tf.placeholder(\"float\",[None,n_input])\n",
    "y=tf.placeholder(\"float\",[None,n_classes])"
   ]
  },
  {
   "cell_type": "code",
   "execution_count": 15,
   "metadata": {
    "collapsed": true
   },
   "outputs": [],
   "source": [
    "def multiplayer_perceptron(x,weights,biases):\n",
    "    # first layer\n",
    "    #with tf.device('/gpu:0'):\n",
    "    #x=tf.reshape(x,shape=[-1,64,64,1])\n",
    "    layer_1=tf.add(tf.matmul(x,weights['h1']),biases['b1'])\n",
    "    layer_1=tf.nn.sigmoid(layer_1)\n",
    "    # second layer\n",
    "    #with tf.device('/gpu:1'):\n",
    "    layer_2=tf.add(tf.matmul(layer_1,weights['h2']),biases['b2'])\n",
    "    layer_2=tf.nn.sigmoid(layer_2)\n",
    "    out_layer=tf.matmul(layer_2,weights['out'])+biases['out']\n",
    "    return out_layer"
   ]
  },
  {
   "cell_type": "code",
   "execution_count": 16,
   "metadata": {
    "collapsed": true
   },
   "outputs": [],
   "source": [
    "# store layer weights and biases\n",
    "weights={\n",
    "    'h1':tf.Variable(tf.random_normal([n_input,n_hidden_1])),\n",
    "    'h2':tf.Variable(tf.random_normal([n_hidden_1,n_hidden_2])),\n",
    "    #'h3':tf.Variable(tf.random_normal([n_hidden_2,n_hidden_3])),\n",
    "    #'h4':tf.Variable(tf.random_normal([n_hidden_3,n_hidden_4])),\n",
    "    'out':tf.Variable(tf.random_normal([n_hidden_1,n_classes]))\n",
    "}\n",
    "\n",
    "biases={\n",
    "    'b1':tf.Variable(tf.random_normal([n_hidden_1])),\n",
    "    'b2':tf.Variable(tf.random_normal([n_hidden_2])),\n",
    "    #'b3':tf.Variable(tf.random_normal([n_hidden_3])),\n",
    "    #'b4':tf.Variable(tf.random_normal([n_hidden_4])),\n",
    "    'out':tf.Variable(tf.random_normal([n_classes]))\n",
    "}\n",
    "with tf.name_scope(\"Model\"):\n",
    "    pred=multiplayer_perceptron(x,weights,biases)\n",
    "\n",
    "# define loss and optimizer\n",
    "with tf.name_scope('Loss'):\n",
    "    cost=tf.reduce_mean(tf.nn.softmax_cross_entropy_with_logits(logits=pred,labels=y))\n",
    "with tf.name_scope('Adam'):\n",
    "    optimizer=tf.train.AdamOptimizer(learning_rate=learning_rate).minimize(cost)\n",
    "with tf.name_scope(\"Accuracy\"):\n",
    "    acc = tf.equal(tf.argmax(pred, 1), tf.argmax(y, 1))\n",
    "    acc = tf.reduce_mean(tf.cast(acc, tf.float32))\n",
    "# initilizing the variables\n",
    "init=tf.global_variables_initializer()\n",
    "\n",
    "tf.summary.scalar(\"loss\",cost)\n",
    "tf.summary.scalar(\"accuracy\",acc)\n",
    "merged_summary_op=tf.summary.merge_all()"
   ]
  },
  {
   "cell_type": "code",
   "execution_count": 20,
   "metadata": {},
   "outputs": [
    {
     "name": "stdout",
     "output_type": "stream",
     "text": [
      "Epoch: 0001 cost= 0.848674871\n",
      "Epoch: 0002 cost= 0.486426866\n",
      "Epoch: 0003 cost= 0.479657972\n",
      "Epoch: 0004 cost= 0.458090131\n",
      "Epoch: 0005 cost= 0.452489701\n",
      "Epoch: 0006 cost= 0.448284647\n",
      "Epoch: 0007 cost= 0.437242183\n",
      "Epoch: 0008 cost= 0.434923283\n",
      "Epoch: 0009 cost= 0.427488716\n",
      "Epoch: 0010 cost= 0.429780490\n",
      "Epoch: 0011 cost= 0.434446906\n",
      "Epoch: 0012 cost= 0.424893203\n",
      "Epoch: 0013 cost= 0.437195039\n",
      "Epoch: 0014 cost= 0.421536350\n",
      "Epoch: 0015 cost= 0.430040421\n",
      "Optimization Finished\n",
      "Training Accuracy: 0.82\n",
      "Testing Accuracy: 0.83\n",
      "validation accuracy: 0.806667\n",
      "Precision 1.0\n",
      "Recall 0.0333333333333\n",
      "f1_score 0.0645161290323\n",
      "confusion_matrix\n",
      "[[120   0]\n",
      " [ 29   1]]\n"
     ]
    }
   ],
   "source": [
    "from sklearn import metrics as sk\n",
    "# launch the graph\n",
    "with tf.Session() as sess:\n",
    "    sess.run(init)\n",
    "    \n",
    "    summary_writer=tf.summary.FileWriter(logs_path,graph=sess.graph)\n",
    "    # Training \n",
    "    \n",
    "    for epoch in range(training_epoch):\n",
    "        avg_cost=0\n",
    "        for i in range(batch_size):\n",
    "            train_idx=np.random.randint(X_Train.shape[0],size=100)\n",
    "            batch_x_Train=X_Train[train_idx,:]\n",
    "            batch_y_Train=y_Train[train_idx]\n",
    "            _,c,summary=sess.run([optimizer,cost,merged_summary_op],feed_dict={x:batch_x_Train,y:batch_y_Train})\n",
    "            summary_writer.add_summary(summary,epoch*batch_size+i)\n",
    "            avg_cost+=c/batch_size\n",
    "            \n",
    "        if epoch%display_step==0:\n",
    "            print \"Epoch:\", '%04d' % (epoch+1), \"cost=\", \\\n",
    "                \"{:.9f}\".format(avg_cost)\n",
    "    print \"Optimization Finished\"\n",
    "    \n",
    "    Predictions=tf.equal(tf.argmax(pred,1),tf.argmax(y,1))\n",
    "    accuracy=tf.reduce_mean(tf.cast(Predictions,\"float\"))\n",
    "    test_idx=np.random.randint(X_Test.shape[0],size=100)\n",
    "    batch_x_Test=X_Test[test_idx,:]\n",
    "    batch_y_Test=y_Test[test_idx]\n",
    "    print \"Training Accuracy:\" ,accuracy.eval({x:batch_x_Train,y:batch_y_Train})\n",
    "    print \"Testing Accuracy:\" ,accuracy.eval({x:batch_x_Test,y:batch_y_Test})\n",
    "    y_p = tf.argmax(pred, 1)\n",
    "    val_accuracy, y_pred = sess.run([accuracy, y_p], feed_dict={x:X_Test, y:y_Test})\n",
    "\n",
    "    print \"validation accuracy:\", val_accuracy\n",
    "    y_true = np.argmax(y_Test,1)\n",
    "    print \"Precision\", sk.precision_score(y_true, y_pred)\n",
    "    print \"Recall\", sk.recall_score(y_true, y_pred)\n",
    "    print \"f1_score\", sk.f1_score(y_true, y_pred)\n",
    "    print \"confusion_matrix\"\n",
    "    print sk.confusion_matrix(y_true, y_pred)\n",
    "    fpr, tpr, tresholds = sk.roc_curve(y_true, y_pred)"
   ]
  },
  {
   "cell_type": "code",
   "execution_count": null,
   "metadata": {
    "collapsed": true
   },
   "outputs": [],
   "source": [
    "with tf.Session() as sess:\n",
    "    y_p = tf.argmax(pred, 1)\n",
    "    val_accuracy, y_pred = sess.run([accuracy, y_p], feed_dict={x:X_Test, y:y_Test})\n",
    "\n",
    "    print \"validation accuracy:\", val_accuracy\n",
    "    y_true = np.argmax(y_Test,1)\n",
    "    print \"Precision\", sk.metrics.precision_score(y_true, y_pred)\n",
    "    print \"Recall\", sk.metrics.recall_score(y_true, y_pred)\n",
    "    print \"f1_score\", sk.metrics.f1_score(y_true, y_pred)\n",
    "    print \"confusion_matrix\"\n",
    "    print sk.metrics.confusion_matrix(y_true, y_pred)\n",
    "    fpr, tpr, tresholds = sk.metrics.roc_curve(y_true, y_pred)"
   ]
  }
 ],
 "metadata": {
  "kernelspec": {
   "display_name": "Python 2",
   "language": "python",
   "name": "python2"
  },
  "language_info": {
   "codemirror_mode": {
    "name": "ipython",
    "version": 2
   },
   "file_extension": ".py",
   "mimetype": "text/x-python",
   "name": "python",
   "nbconvert_exporter": "python",
   "pygments_lexer": "ipython2",
   "version": "2.7.13"
  }
 },
 "nbformat": 4,
 "nbformat_minor": 2
}
