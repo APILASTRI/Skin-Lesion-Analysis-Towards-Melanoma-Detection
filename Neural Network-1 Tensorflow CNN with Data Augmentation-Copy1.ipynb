{
 "cells": [
  {
   "cell_type": "code",
   "execution_count": 1,
   "metadata": {},
   "outputs": [
    {
     "name": "stderr",
     "output_type": "stream",
     "text": [
      "Using TensorFlow backend.\n"
     ]
    }
   ],
   "source": [
    "import cv2\n",
    "import Tkinter as tk\n",
    "import tkFileDialog\n",
    "import os\n",
    "import numpy as np\n",
    "import tensorflow as tf\n",
    "import pandas as pd\n",
    "import matplotlib.pyplot as plt\n",
    "from sklearn.preprocessing import LabelEncoder\n",
    "from Preprocessing import load_images\n",
    "from keras.utils import np_utils\n",
    "from sklearn import metrics as sk\n",
    "from sklearn.metrics import cohen_kappa_score\n",
    "import datumio.datagen as dtd\n",
    "np.random.seed(200)\n",
    "%matplotlib inline"
   ]
  },
  {
   "cell_type": "code",
   "execution_count": 2,
   "metadata": {},
   "outputs": [
    {
     "name": "stdout",
     "output_type": "stream",
     "text": [
      "/home/edward/Skin-Lesion-Analysis-Towards-Melanoma-Detection/Training Images\n"
     ]
    }
   ],
   "source": [
    "tk.Tk().withdraw()\n",
    "path_Train=tkFileDialog.askdirectory()\n",
    "print path_Train"
   ]
  },
  {
   "cell_type": "code",
   "execution_count": 3,
   "metadata": {
    "collapsed": true
   },
   "outputs": [],
   "source": [
    "X_Train=load_images(path_Train)"
   ]
  },
  {
   "cell_type": "code",
   "execution_count": 4,
   "metadata": {},
   "outputs": [
    {
     "data": {
      "text/plain": [
       "list"
      ]
     },
     "execution_count": 4,
     "metadata": {},
     "output_type": "execute_result"
    }
   ],
   "source": [
    "type(X_Train)"
   ]
  },
  {
   "cell_type": "code",
   "execution_count": 5,
   "metadata": {},
   "outputs": [
    {
     "data": {
      "text/plain": [
       "(2000, 64, 64, 3)"
      ]
     },
     "execution_count": 5,
     "metadata": {},
     "output_type": "execute_result"
    }
   ],
   "source": [
    "X_Train=np.array(X_Train)\n",
    "X_Train.shape"
   ]
  },
  {
   "cell_type": "code",
   "execution_count": 6,
   "metadata": {
    "collapsed": true
   },
   "outputs": [],
   "source": [
    "#X_Train=np.reshape(X_Train,[-1,np.prod(X_Train.shape[1:])])\n",
    "#X_Train.shape"
   ]
  },
  {
   "cell_type": "code",
   "execution_count": 7,
   "metadata": {},
   "outputs": [
    {
     "name": "stdout",
     "output_type": "stream",
     "text": [
      "/home/edward/Skin-Lesion-Analysis-Towards-Melanoma-Detection/Testing Images\n"
     ]
    }
   ],
   "source": [
    "tk.Tk().withdraw()\n",
    "path_Test=tkFileDialog.askdirectory()\n",
    "print path_Test"
   ]
  },
  {
   "cell_type": "code",
   "execution_count": 8,
   "metadata": {
    "collapsed": true
   },
   "outputs": [],
   "source": [
    "X_Test=load_images(path_Test)\n",
    "X_Test=np.array(X_Test)"
   ]
  },
  {
   "cell_type": "code",
   "execution_count": 9,
   "metadata": {
    "collapsed": true
   },
   "outputs": [],
   "source": [
    "#X_Test=np.reshape(X_Test,[-1,np.prod(X_Test.shape[1:])])\n",
    "#X_Test.shape"
   ]
  },
  {
   "cell_type": "code",
   "execution_count": 10,
   "metadata": {
    "collapsed": true
   },
   "outputs": [],
   "source": [
    "data_Train=pd.read_csv(\"/home/edward/Skin-Lesion-Analysis-Towards-Melanoma-Detection/ISIC-2017_Training_Part3_GroundTruth.csv\")\n",
    "data_Test=pd.read_csv(\"/home/edward/Skin-Lesion-Analysis-Towards-Melanoma-Detection/ISIC-2017_Test_v2_Part3_GroundTruth.csv\")"
   ]
  },
  {
   "cell_type": "code",
   "execution_count": 11,
   "metadata": {},
   "outputs": [
    {
     "name": "stdout",
     "output_type": "stream",
     "text": [
      "(2000,)\n",
      "(600,)\n"
     ]
    }
   ],
   "source": [
    "data_Train=data_Train.iloc[0:2000,1]\n",
    "data_Test=data_Test.iloc[0:600,1]\n",
    "print data_Train.shape\n",
    "print data_Test.shape"
   ]
  },
  {
   "cell_type": "code",
   "execution_count": 12,
   "metadata": {
    "collapsed": true
   },
   "outputs": [],
   "source": [
    "y_Train=data_Train\n",
    "y_Test=data_Test"
   ]
  },
  {
   "cell_type": "code",
   "execution_count": 13,
   "metadata": {
    "collapsed": true
   },
   "outputs": [],
   "source": [
    "y_Train=np.array(y_Train)\n",
    "y_Test=np.array(y_Test)"
   ]
  },
  {
   "cell_type": "code",
   "execution_count": 14,
   "metadata": {},
   "outputs": [
    {
     "name": "stdout",
     "output_type": "stream",
     "text": [
      "(2000, 2)\n",
      "(600, 2)\n"
     ]
    }
   ],
   "source": [
    "y_Train = np_utils.to_categorical(data_Train)\n",
    "y_Test = np_utils.to_categorical(data_Test)\n",
    "print y_Train.shape\n",
    "print y_Test.shape"
   ]
  },
  {
   "cell_type": "code",
   "execution_count": 15,
   "metadata": {},
   "outputs": [
    {
     "name": "stdout",
     "output_type": "stream",
     "text": [
      "/home/edward/Skin-Lesion-Analysis-Towards-Melanoma-Detection/Validation Images\n"
     ]
    },
    {
     "data": {
      "text/plain": [
       "(150, 64, 64, 3)"
      ]
     },
     "execution_count": 15,
     "metadata": {},
     "output_type": "execute_result"
    }
   ],
   "source": [
    "tk.Tk().withdraw()\n",
    "path_Validation=tkFileDialog.askdirectory()\n",
    "print path_Validation\n",
    "X_Val=load_images(path_Validation)\n",
    "X_Val=np.array(X_Val)\n",
    "X_Val.shape"
   ]
  },
  {
   "cell_type": "code",
   "execution_count": 16,
   "metadata": {},
   "outputs": [
    {
     "name": "stdout",
     "output_type": "stream",
     "text": [
      "(150, 3)\n",
      "(150, 2)\n"
     ]
    }
   ],
   "source": [
    "y_Val=pd.read_csv(\"/home/edward/Skin-Lesion-Analysis-Towards-Melanoma-Detection/ISIC-2017_Validation_Part3_GroundTruth.csv\")\n",
    "Data_Validation=y_Val.iloc[0:150,1]\n",
    "print y_Val.shape\n",
    "y_Val = np_utils.to_categorical(Data_Validation)\n",
    "print y_Val.shape"
   ]
  },
  {
   "cell_type": "code",
   "execution_count": 17,
   "metadata": {
    "collapsed": true
   },
   "outputs": [],
   "source": [
    "def center_normalize(x):\n",
    "    return (x-np.mean(x))/np.std(x)\n",
    "X_Train=center_normalize(X_Train)\n",
    "X_Test=center_normalize(X_Test)"
   ]
  },
  {
   "cell_type": "code",
   "execution_count": 18,
   "metadata": {},
   "outputs": [
    {
     "data": {
      "text/plain": [
       "[<matplotlib.lines.Line2D at 0x7f96b18464d0>,\n",
       " <matplotlib.lines.Line2D at 0x7f96b18466d0>,\n",
       " <matplotlib.lines.Line2D at 0x7f96b1846810>,\n",
       " <matplotlib.lines.Line2D at 0x7f96b1846950>,\n",
       " <matplotlib.lines.Line2D at 0x7f96b1846a90>,\n",
       " <matplotlib.lines.Line2D at 0x7f96b1846bd0>,\n",
       " <matplotlib.lines.Line2D at 0x7f96b1846d10>,\n",
       " <matplotlib.lines.Line2D at 0x7f96b1846e50>,\n",
       " <matplotlib.lines.Line2D at 0x7f96b1846f90>,\n",
       " <matplotlib.lines.Line2D at 0x7f96b1854110>,\n",
       " <matplotlib.lines.Line2D at 0x7f96b1854250>,\n",
       " <matplotlib.lines.Line2D at 0x7f96b1854390>,\n",
       " <matplotlib.lines.Line2D at 0x7f96b18544d0>,\n",
       " <matplotlib.lines.Line2D at 0x7f96b1854610>,\n",
       " <matplotlib.lines.Line2D at 0x7f96b1854750>,\n",
       " <matplotlib.lines.Line2D at 0x7f96b1854890>,\n",
       " <matplotlib.lines.Line2D at 0x7f96b18549d0>,\n",
       " <matplotlib.lines.Line2D at 0x7f96b1854b10>,\n",
       " <matplotlib.lines.Line2D at 0x7f96b1854c50>,\n",
       " <matplotlib.lines.Line2D at 0x7f96b1854d90>,\n",
       " <matplotlib.lines.Line2D at 0x7f96b037da90>,\n",
       " <matplotlib.lines.Line2D at 0x7f96b185f050>,\n",
       " <matplotlib.lines.Line2D at 0x7f96b185f190>,\n",
       " <matplotlib.lines.Line2D at 0x7f96b185f2d0>,\n",
       " <matplotlib.lines.Line2D at 0x7f96b185f410>,\n",
       " <matplotlib.lines.Line2D at 0x7f96b185f550>,\n",
       " <matplotlib.lines.Line2D at 0x7f96b185f690>,\n",
       " <matplotlib.lines.Line2D at 0x7f96b185f7d0>,\n",
       " <matplotlib.lines.Line2D at 0x7f96b185f910>,\n",
       " <matplotlib.lines.Line2D at 0x7f96b185fa50>,\n",
       " <matplotlib.lines.Line2D at 0x7f96b1854ed0>,\n",
       " <matplotlib.lines.Line2D at 0x7f96b185fcd0>,\n",
       " <matplotlib.lines.Line2D at 0x7f96b185fe10>,\n",
       " <matplotlib.lines.Line2D at 0x7f96b185ff50>,\n",
       " <matplotlib.lines.Line2D at 0x7f96b17eb0d0>,\n",
       " <matplotlib.lines.Line2D at 0x7f96b17eb210>,\n",
       " <matplotlib.lines.Line2D at 0x7f96b17eb350>,\n",
       " <matplotlib.lines.Line2D at 0x7f96b17eb490>,\n",
       " <matplotlib.lines.Line2D at 0x7f96b17eb5d0>,\n",
       " <matplotlib.lines.Line2D at 0x7f96b17eb710>,\n",
       " <matplotlib.lines.Line2D at 0x7f96b185fb90>,\n",
       " <matplotlib.lines.Line2D at 0x7f96b17eb990>,\n",
       " <matplotlib.lines.Line2D at 0x7f96b17ebad0>,\n",
       " <matplotlib.lines.Line2D at 0x7f96b17ebc10>,\n",
       " <matplotlib.lines.Line2D at 0x7f96b17ebd50>,\n",
       " <matplotlib.lines.Line2D at 0x7f96b17ebe90>,\n",
       " <matplotlib.lines.Line2D at 0x7f96b17ebfd0>,\n",
       " <matplotlib.lines.Line2D at 0x7f96b17f4150>,\n",
       " <matplotlib.lines.Line2D at 0x7f96b17f4290>,\n",
       " <matplotlib.lines.Line2D at 0x7f96b17f43d0>,\n",
       " <matplotlib.lines.Line2D at 0x7f96b17eb850>,\n",
       " <matplotlib.lines.Line2D at 0x7f96b17f4650>,\n",
       " <matplotlib.lines.Line2D at 0x7f96b17f4790>,\n",
       " <matplotlib.lines.Line2D at 0x7f96b17f48d0>,\n",
       " <matplotlib.lines.Line2D at 0x7f96b17f4a10>,\n",
       " <matplotlib.lines.Line2D at 0x7f96b17f4b50>,\n",
       " <matplotlib.lines.Line2D at 0x7f96b17f4c90>,\n",
       " <matplotlib.lines.Line2D at 0x7f96b17f4dd0>,\n",
       " <matplotlib.lines.Line2D at 0x7f96b17f4f10>,\n",
       " <matplotlib.lines.Line2D at 0x7f96b17ff090>,\n",
       " <matplotlib.lines.Line2D at 0x7f96b17f4510>,\n",
       " <matplotlib.lines.Line2D at 0x7f96b17ff310>,\n",
       " <matplotlib.lines.Line2D at 0x7f96b17ff450>,\n",
       " <matplotlib.lines.Line2D at 0x7f96b17ff590>]"
      ]
     },
     "execution_count": 18,
     "metadata": {},
     "output_type": "execute_result"
    },
    {
     "data": {
      "image/png": "[encoded data removed]",
      "text/plain": [
       "<matplotlib.figure.Figure at 0x7f9707715250>"
      ]
     },
     "metadata": {},
     "output_type": "display_data"
    }
   ],
   "source": [
    "plt.plot(X_Train[0,:,:,2])"
   ]
  },
  {
   "cell_type": "code",
   "execution_count": 19,
   "metadata": {
    "collapsed": true
   },
   "outputs": [],
   "source": [
    "aug_params={'rotation_range':(-20,20),\n",
    "           'translation_range':(-4,4),\n",
    "           'do_flip_lr':True}\n",
    "batch_generator=dtd.BatchGenerator(X_Train,y=y_Train,rng_aug_params=aug_params)"
   ]
  },
  {
   "cell_type": "markdown",
   "metadata": {},
   "source": [
    "#### Placeholders and inputs"
   ]
  },
  {
   "cell_type": "code",
   "execution_count": 20,
   "metadata": {
    "collapsed": true
   },
   "outputs": [],
   "source": [
    "sess=tf.Session()\n",
    "img_size=64\n",
    "num_channels=3\n",
    "num_classes=2\n",
    "img_size_flat=img_size*img_size*num_channels\n",
    "with tf.name_scope(\"Input\"):\n",
    "    x=tf.placeholder(tf.float32,shape=[None,img_size_flat],name='x')\n",
    "    x=tf.reshape(x,[-1,img_size,img_size,num_channels])\n",
    "logs_path = '/tmp/tensorflow_logs/example'\n",
    "model_path = \"/home/edward/Trained models/Final.ckpt\"\n",
    "y_true=tf.placeholder(tf.float32,shape=[None,num_classes],name='y_true')\n",
    "y_true_cls=tf.argmax(y_true,dimension=1)\n",
    "dropout=0.75\n",
    "with tf.name_scope('dropout'):\n",
    "    keep_prob=tf.placeholder(tf.float32)\n",
    "    tf.summary.scalar('dropout_keep_probability', keep_prob)\n",
    "\n",
    "filter_size1=3\n",
    "num_filters1=32\n",
    "filter_size2=3\n",
    "num_filters2=32\n",
    "filter_size3=3\n",
    "num_filters3=32\n",
    "filter_size4=3\n",
    "num_filters4=32\n",
    "filter_size5=3\n",
    "num_filters5=32\n",
    "fc_size=32"
   ]
  },
  {
   "cell_type": "markdown",
   "metadata": {},
   "source": [
    "#### Initilization of Weights"
   ]
  },
  {
   "cell_type": "code",
   "execution_count": 21,
   "metadata": {
    "collapsed": true
   },
   "outputs": [],
   "source": [
    "def weights_initilization(shape):\n",
    "    return tf.Variable(tf.random_normal(shape,stddev=0.05))\n",
    "def biases_initilization(length):\n",
    "    return tf.Variable(tf.random_normal(shape=[length]))"
   ]
  },
  {
   "cell_type": "markdown",
   "metadata": {},
   "source": [
    "#### Convolution + pooling layer"
   ]
  },
  {
   "cell_type": "code",
   "execution_count": 22,
   "metadata": {
    "collapsed": true
   },
   "outputs": [],
   "source": [
    "def conv_layer(input,input_channels,filter_size,num_filters,layer_name,use_pooling=True):\n",
    "    with tf.name_scope(layer_name):\n",
    "        shape=[filter_size,filter_size,input_channels,num_filters]\n",
    "        with tf.name_scope('Weights'):\n",
    "            weights=weights_initilization(shape)\n",
    "            variable_summaries(weights)\n",
    "        with tf.name_scope(\"Biases\"):\n",
    "            biases=biases_initilization(length=num_filters)\n",
    "            variable_summaries(biases)\n",
    "        conv_layer=tf.nn.conv2d(input=input,filter=weights,strides=[1,1,1,1],padding='SAME')\n",
    "        conv_layer+=biases\n",
    "\n",
    "        if use_pooling:\n",
    "            pooling_layer=tf.nn.max_pool(value=conv_layer,ksize=[1,2,2,1],\n",
    "                                        strides=[1,2,2,1],padding='SAME')\n",
    "            Activation_layer=tf.nn.relu(pooling_layer)\n",
    "        else:\n",
    "            Activation_layer=conv_layer\n",
    "    return Activation_layer,weights"
   ]
  },
  {
   "cell_type": "markdown",
   "metadata": {},
   "source": [
    "#### Flatten layer "
   ]
  },
  {
   "cell_type": "code",
   "execution_count": 23,
   "metadata": {
    "collapsed": true
   },
   "outputs": [],
   "source": [
    "def flatten_layer(layer,layer_name):\n",
    "    with tf.name_scope(layer_name):\n",
    "        layer_shape=layer.get_shape()\n",
    "        num_features=layer_shape[1:4].num_elements()\n",
    "        layer_flat=tf.reshape(layer,[-1,num_features])\n",
    "    return layer_flat,num_features"
   ]
  },
  {
   "cell_type": "markdown",
   "metadata": {},
   "source": [
    "#### Fully Connected layer"
   ]
  },
  {
   "cell_type": "code",
   "execution_count": 24,
   "metadata": {
    "collapsed": true
   },
   "outputs": [],
   "source": [
    "def fc_layer(input,num_inputs,num_outputs,layer_name,keep_prob,use_relu=True):\n",
    "    with tf.name_scope(layer_name):\n",
    "        with tf.name_scope(\"Weights_FC\"):\n",
    "            weights=weights_initilization(shape=[num_inputs,num_outputs])\n",
    "            variable_summaries(weights)\n",
    "        with tf.name_scope(\"biases_FC\"):\n",
    "            biases=biases_initilization(length=num_outputs)\n",
    "            variable_summaries(biases)\n",
    "        with tf.name_scope(\"Wx_plus_b\"):\n",
    "            layer=tf.matmul(input,weights)+biases\n",
    "            tf.summary.histogram('Preactivation',layer)\n",
    "        with tf.name_scope('Activation'):\n",
    "            if use_relu:\n",
    "                layer=tf.nn.relu(layer)\n",
    "                tf.summary.histogram('activation',layer)\n",
    "        with tf.name_scope('dropout'):\n",
    "            layer=tf.nn.dropout(layer,keep_prob)\n",
    "    return layer,weights"
   ]
  },
  {
   "cell_type": "code",
   "execution_count": 25,
   "metadata": {
    "collapsed": true
   },
   "outputs": [],
   "source": [
    "def variable_summaries(var):\n",
    "    \"\"\"Attach a lot of summaries to a Tensor (for TensorBoard visualization).\"\"\"\n",
    "    with tf.name_scope('summaries'):\n",
    "        mean = tf.reduce_mean(var)\n",
    "        tf.summary.scalar('mean', mean)\n",
    "        with tf.name_scope('stddev'):\n",
    "            stddev = tf.sqrt(tf.reduce_mean(tf.square(var - mean)))\n",
    "            tf.summary.scalar('stddev', stddev)\n",
    "            tf.summary.scalar('max', tf.reduce_max(var))\n",
    "            tf.summary.scalar('min', tf.reduce_min(var))\n",
    "            tf.summary.histogram('histogram', var)"
   ]
  },
  {
   "cell_type": "markdown",
   "metadata": {},
   "source": [
    "#### Network Design"
   ]
  },
  {
   "cell_type": "code",
   "execution_count": 26,
   "metadata": {},
   "outputs": [],
   "source": [
    "layer_conv1,weights_conv1=conv_layer(input=x,input_channels=num_channels,filter_size=filter_size1,\n",
    "                                     num_filters=num_filters1,layer_name='layer1',use_pooling=True)\n",
    "layer_conv2,weights_conv2=conv_layer(input=layer_conv1,input_channels=num_filters2,filter_size=filter_size2,\n",
    "                                     num_filters=num_filters2,use_pooling=True,layer_name='layer2')\n",
    "layer_conv3,weights_conv3=conv_layer(input=layer_conv2,input_channels=num_filters3,filter_size=filter_size3,\n",
    "                                     num_filters=num_filters3,use_pooling=True,layer_name='layer3')\n",
    "layer_flat,num_features=flatten_layer(layer_conv3,'layer4')\n",
    "layer_fc1,weights_FC1=fc_layer(input=layer_flat,num_inputs=num_features,num_outputs=num_classes,keep_prob=keep_prob,layer_name='layer5',use_relu=True)\n",
    "#layer_fc2,weights_FC2=fc_layer(input=layer_fc1,num_inputs=fc_size,num_outputs=num_classes,keep_prob=keep_prob,layer_name='layer17',use_relu=True)\n"
   ]
  },
  {
   "cell_type": "code",
   "execution_count": 27,
   "metadata": {
    "collapsed": true
   },
   "outputs": [],
   "source": [
    "#layer_fc2"
   ]
  },
  {
   "cell_type": "markdown",
   "metadata": {},
   "source": [
    "#### Predications"
   ]
  },
  {
   "cell_type": "code",
   "execution_count": 28,
   "metadata": {},
   "outputs": [
    {
     "data": {
      "text/plain": [
       "<tf.Tensor 'cost:0' shape=() dtype=string>"
      ]
     },
     "execution_count": 28,
     "metadata": {},
     "output_type": "execute_result"
    }
   ],
   "source": [
    "y_pred=tf.nn.softmax(layer_fc1)\n",
    "y_pred_cls=tf.argmax(y_pred,dimension=1)\n",
    "with tf.name_scope('cross_entropy'):\n",
    "    cross_entropy=tf.nn.softmax_cross_entropy_with_logits(logits=layer_fc1,labels=y_true)\n",
    "with tf.name_scope(\"total\"):  \n",
    "    cost=tf.reduce_mean(cross_entropy)\n",
    "tf.summary.scalar('cost',cost)"
   ]
  },
  {
   "cell_type": "markdown",
   "metadata": {},
   "source": [
    "#### Optimization"
   ]
  },
  {
   "cell_type": "code",
   "execution_count": 29,
   "metadata": {},
   "outputs": [
    {
     "data": {
      "text/plain": [
       "<tf.Tensor 'accuracy:0' shape=() dtype=string>"
      ]
     },
     "execution_count": 29,
     "metadata": {},
     "output_type": "execute_result"
    }
   ],
   "source": [
    "with tf.name_scope('train'):\n",
    "    optimizer=tf.train.AdamOptimizer(learning_rate=1e-04).minimize(cross_entropy)\n",
    "with tf.name_scope(\"Accuracy\"):\n",
    "    with tf.name_scope('correct_prediction'):\n",
    "        correct_prediction=tf.equal(y_pred_cls,y_true_cls)\n",
    "    with tf.name_scope('accuracy'):\n",
    "        accuracy=tf.reduce_mean(tf.cast(correct_prediction,tf.float32))\n",
    "tf.summary.scalar('accuracy', accuracy)\n",
    "#tf.summary.scalar('correct_prediction',correct_prediction)"
   ]
  },
  {
   "cell_type": "code",
   "execution_count": null,
   "metadata": {
    "collapsed": true
   },
   "outputs": [],
   "source": []
  },
  {
   "cell_type": "code",
   "execution_count": 30,
   "metadata": {
    "collapsed": true
   },
   "outputs": [],
   "source": [
    "batch_size=100\n",
    "merged=tf.summary.merge_all()\n",
    "train_writer=tf.summary.FileWriter(logs_path+'/train',sess.graph)\n",
    "test_writer=tf.summary.FileWriter(logdir=logs_path+\"/test\")\n",
    "sess.run(tf.global_variables_initializer())\n",
    "with sess.as_default():\n",
    "    tf.global_variables_initializer().run()\n",
    "train_batch_size=batch_size"
   ]
  },
  {
   "cell_type": "code",
   "execution_count": 31,
   "metadata": {
    "collapsed": true
   },
   "outputs": [],
   "source": [
    "# save model \n",
    "model_saver=tf.train.Saver()"
   ]
  },
  {
   "cell_type": "code",
   "execution_count": 32,
   "metadata": {
    "collapsed": true
   },
   "outputs": [],
   "source": [
    "def print_progress(epoch,feed_dict_train,feed_dict_test,test_loss):\n",
    "    acc=sess.run(accuracy,feed_dict=feed_dict_train)\n",
    "    test_acc=sess.run(accuracy,feed_dict=feed_dict_test)\n",
    "    \n",
    "    msg=\"Epoch {0} --- Training Accuracy:{1:>6.1%},Testing Accuracy:{2:>6.1%}, Test Loss:{3:.3f}\"\n",
    "    print msg.format(epoch+1,acc,test_acc,test_loss)"
   ]
  },
  {
   "cell_type": "code",
   "execution_count": 33,
   "metadata": {
    "collapsed": true
   },
   "outputs": [],
   "source": [
    "total_iterations=0\n",
    "batch_size=100\n",
    "img_size_flat=img_size*img_size*num_channels\n",
    "def optimize(num_iterations):\n",
    "      # uncomment below two line while you are restoring model\n",
    "    #load_path = saver_sigmoid.restore(sess, model_path)\n",
    "    #print \"Model restored from file: %s\" % save_path\n",
    "    global total_iterations\n",
    "    best_test_loss=float(\"inf\")\n",
    "    summary_writer=tf.summary.FileWriter(logs_path,graph=sess.graph)\n",
    "    for i in range(total_iterations,total_iterations+num_iterations):\n",
    "        for batch in batch_generator.get_batch(batch_size=batch_size,shuffle=True):\n",
    "             feed_dict_train = {x: batch[0],\n",
    "                           y_true: batch[1],keep_prob:dropout}\n",
    "        train_idx=np.random.randint(X_Test.shape[0],size=batch_size)\n",
    "        batch_x_Test=X_Test[train_idx,:]\n",
    "        batch_y_Test=y_Test[train_idx]\n",
    "       \n",
    "        \n",
    "        feed_dict_test = {x: batch_x_Test,\n",
    "                              y_true: batch_y_Test,keep_prob:1.0}\n",
    "        _,c,summary=sess.run([optimizer,cost,merged],feed_dict=feed_dict_train)\n",
    "        if i% int(X_Train.shape[0]/batch_size)==0:\n",
    "            test_loss=sess.run(cost,feed_dict=feed_dict_test)\n",
    "            epoch=int(i/(X_Train.shape[0]/batch_size))\n",
    "            summary_writer.add_summary(summary,epoch*batch_size+i)\n",
    "            print_progress(epoch,feed_dict_train,feed_dict_test,test_loss)\n",
    "        total_iterations+=num_iterations\n",
    "    save_path=model_saver.save(sess,model_path)\n",
    "    print \"Model saved in file: %s\" % save_path"
   ]
  },
  {
   "cell_type": "code",
   "execution_count": null,
   "metadata": {
    "collapsed": true
   },
   "outputs": [],
   "source": []
  },
  {
   "cell_type": "code",
   "execution_count": 34,
   "metadata": {},
   "outputs": [
    {
     "name": "stdout",
     "output_type": "stream",
     "text": [
      "Epoch 1 --- Training Accuracy: 34.0%,Testing Accuracy: 20.0%, Test Loss:1.170\n",
      "Epoch 2 --- Training Accuracy: 83.0%,Testing Accuracy: 83.0%, Test Loss:0.555\n",
      "Epoch 3 --- Training Accuracy: 78.0%,Testing Accuracy: 75.0%, Test Loss:0.565\n",
      "Epoch 4 --- Training Accuracy: 79.0%,Testing Accuracy: 81.0%, Test Loss:0.495\n",
      "Epoch 5 --- Training Accuracy: 82.0%,Testing Accuracy: 75.0%, Test Loss:0.561\n",
      "Epoch 6 --- Training Accuracy: 79.0%,Testing Accuracy: 76.0%, Test Loss:0.558\n",
      "Epoch 7 --- Training Accuracy: 81.0%,Testing Accuracy: 79.0%, Test Loss:0.515\n",
      "Epoch 8 --- Training Accuracy: 94.0%,Testing Accuracy: 78.0%, Test Loss:0.532\n",
      "Epoch 9 --- Training Accuracy: 82.0%,Testing Accuracy: 77.0%, Test Loss:0.535\n",
      "Epoch 10 --- Training Accuracy: 88.0%,Testing Accuracy: 77.0%, Test Loss:0.542\n",
      "Epoch 11 --- Training Accuracy: 78.0%,Testing Accuracy: 74.0%, Test Loss:0.575\n",
      "Epoch 12 --- Training Accuracy: 83.0%,Testing Accuracy: 75.0%, Test Loss:0.557\n",
      "Epoch 13 --- Training Accuracy: 87.0%,Testing Accuracy: 74.0%, Test Loss:0.587\n",
      "Epoch 14 --- Training Accuracy: 81.0%,Testing Accuracy: 77.0%, Test Loss:0.547\n",
      "Epoch 15 --- Training Accuracy: 79.0%,Testing Accuracy: 75.0%, Test Loss:0.563\n",
      "Epoch 16 --- Training Accuracy: 81.0%,Testing Accuracy: 77.0%, Test Loss:0.532\n",
      "Epoch 17 --- Training Accuracy: 78.0%,Testing Accuracy: 81.0%, Test Loss:0.507\n",
      "Epoch 18 --- Training Accuracy: 83.0%,Testing Accuracy: 82.0%, Test Loss:0.480\n",
      "Epoch 19 --- Training Accuracy: 81.0%,Testing Accuracy: 78.0%, Test Loss:0.498\n",
      "Epoch 20 --- Training Accuracy: 77.0%,Testing Accuracy: 75.0%, Test Loss:0.556\n",
      "Epoch 21 --- Training Accuracy: 85.0%,Testing Accuracy: 81.0%, Test Loss:0.475\n",
      "Epoch 22 --- Training Accuracy: 80.0%,Testing Accuracy: 77.0%, Test Loss:0.532\n",
      "Epoch 23 --- Training Accuracy: 83.0%,Testing Accuracy: 83.0%, Test Loss:0.478\n",
      "Epoch 24 --- Training Accuracy: 84.0%,Testing Accuracy: 80.0%, Test Loss:0.498\n",
      "Epoch 25 --- Training Accuracy: 80.0%,Testing Accuracy: 83.0%, Test Loss:0.461\n",
      "Epoch 26 --- Training Accuracy: 79.0%,Testing Accuracy: 84.0%, Test Loss:0.479\n",
      "Epoch 27 --- Training Accuracy: 79.0%,Testing Accuracy: 78.0%, Test Loss:0.505\n",
      "Epoch 28 --- Training Accuracy: 83.0%,Testing Accuracy: 82.0%, Test Loss:0.480\n",
      "Epoch 29 --- Training Accuracy: 87.0%,Testing Accuracy: 87.0%, Test Loss:0.420\n",
      "Epoch 30 --- Training Accuracy: 77.0%,Testing Accuracy: 83.0%, Test Loss:0.488\n",
      "Epoch 31 --- Training Accuracy: 79.0%,Testing Accuracy: 76.0%, Test Loss:0.540\n",
      "Epoch 32 --- Training Accuracy: 85.0%,Testing Accuracy: 83.0%, Test Loss:0.482\n",
      "Epoch 33 --- Training Accuracy: 84.0%,Testing Accuracy: 81.0%, Test Loss:0.489\n",
      "Epoch 34 --- Training Accuracy: 83.0%,Testing Accuracy: 82.0%, Test Loss:0.469\n",
      "Epoch 35 --- Training Accuracy: 78.0%,Testing Accuracy: 78.0%, Test Loss:0.530\n",
      "Epoch 36 --- Training Accuracy: 83.0%,Testing Accuracy: 87.0%, Test Loss:0.428\n",
      "Epoch 37 --- Training Accuracy: 75.0%,Testing Accuracy: 76.0%, Test Loss:0.546\n",
      "Epoch 38 --- Training Accuracy: 74.0%,Testing Accuracy: 77.0%, Test Loss:0.530\n",
      "Epoch 39 --- Training Accuracy: 78.0%,Testing Accuracy: 85.0%, Test Loss:0.450\n",
      "Epoch 40 --- Training Accuracy: 85.0%,Testing Accuracy: 73.0%, Test Loss:0.558\n",
      "Epoch 41 --- Training Accuracy: 81.0%,Testing Accuracy: 83.0%, Test Loss:0.469\n",
      "Epoch 42 --- Training Accuracy: 80.0%,Testing Accuracy: 85.0%, Test Loss:0.439\n",
      "Epoch 43 --- Training Accuracy: 85.0%,Testing Accuracy: 76.0%, Test Loss:0.534\n",
      "Epoch 44 --- Training Accuracy: 84.0%,Testing Accuracy: 85.0%, Test Loss:0.443\n",
      "Epoch 45 --- Training Accuracy: 76.0%,Testing Accuracy: 76.0%, Test Loss:0.543\n",
      "Epoch 46 --- Training Accuracy: 80.0%,Testing Accuracy: 80.0%, Test Loss:0.504\n",
      "Epoch 47 --- Training Accuracy: 79.0%,Testing Accuracy: 74.0%, Test Loss:0.548\n",
      "Epoch 48 --- Training Accuracy: 77.0%,Testing Accuracy: 79.0%, Test Loss:0.523\n",
      "Epoch 49 --- Training Accuracy: 80.0%,Testing Accuracy: 78.0%, Test Loss:0.512\n",
      "Epoch 50 --- Training Accuracy: 87.0%,Testing Accuracy: 82.0%, Test Loss:0.495\n",
      "Model saved in file: /home/edward/Trained models/Final.ckpt\n"
     ]
    }
   ],
   "source": [
    "optimize(num_iterations=1000)"
   ]
  },
  {
   "cell_type": "code",
   "execution_count": null,
   "metadata": {},
   "outputs": [],
   "source": [
    "with tf.Session() as sess:\n",
    "    sess.run(tf.global_variables_initializer())\n",
    "    y_p = tf.argmax(layer_fc1, 1)\n",
    "    val_accuracy, y_pr = sess.run([accuracy, y_p], feed_dict={x:X_Test, y_true:y_Test,keep_prob:dropout})\n",
    "    y_true = np.argmax(y_Test,1)\n",
    "    print \"Precision\", sk.precision_score(y_true, y_pr)\n",
    "    print \"Recall\", sk.recall_score(y_true, y_pr)\n",
    "    print \"confusion_matrix\"\n",
    "    print sk.confusion_matrix(y_true, y_pr)\n",
    "    print \"kappa score\",cohen_kappa_score(y_true,y_pr)\n",
    "    auc = sk.roc_auc_score(y_true, y_pr)\n",
    "    #print \"fpr\",fpr\n",
    "    #print \"tpr\",tpr\n",
    "    #print tresholds\n",
    "    print 'auc',auc"
   ]
  },
  {
   "cell_type": "code",
   "execution_count": null,
   "metadata": {},
   "outputs": [],
   "source": [
    "with tf.Session() as sess:\n",
    "    sess.run(tf.global_variables_initializer())\n",
    "    y_p = tf.argmax(layer_fc1, 1)\n",
    "    val_accuracy, y_pr = sess.run([accuracy, y_p], feed_dict={x:X_Val, y_true:y_Val,keep_prob:dropout})\n",
    "    y_true = np.argmax(y_Val,1)\n",
    "    print \"Precision\", sk.precision_score(y_true, y_pr)\n",
    "    print \"Recall\", sk.recall_score(y_true, y_pr)\n",
    "    print \"confusion_matrix\"\n",
    "    print sk.confusion_matrix(y_true, y_pr)\n",
    "    print \"kappa score\",cohen_kappa_score(y_true,y_pr)\n",
    "    auc = sk.roc_auc_score(y_true, y_pr)\n",
    "    #print \"fpr\",fpr\n",
    "    #print \"tpr\",tpr\n",
    "    #print tresholds\n",
    "    print 'auc',auc"
   ]
  }
 ],
 "metadata": {
  "kernelspec": {
   "display_name": "Python 2",
   "language": "python",
   "name": "python2"
  },
  "language_info": {
   "codemirror_mode": {
    "name": "ipython",
    "version": 2
   },
   "file_extension": ".py",
   "mimetype": "text/x-python",
   "name": "python",
   "nbconvert_exporter": "python",
   "pygments_lexer": "ipython2",
   "version": "2.7.13"
  }
 },
 "nbformat": 4,
 "nbformat_minor": 2
}
