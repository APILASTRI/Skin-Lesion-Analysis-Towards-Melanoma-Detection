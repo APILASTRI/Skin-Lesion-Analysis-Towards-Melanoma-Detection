{
 "cells": [
  {
   "cell_type": "code",
   "execution_count": 2,
   "metadata": {},
   "outputs": [
    {
     "name": "stderr",
     "output_type": "stream",
     "text": [
      "Using TensorFlow backend.\n",
      "/home/edward/anaconda2/lib/python2.7/site-packages/sklearn/cross_validation.py:44: DeprecationWarning: This module was deprecated in version 0.18 in favor of the model_selection module into which all the refactored classes and functions are moved. Also note that the interface of the new CV iterators are different from that of this module. This module will be removed in 0.20.\n",
      "  \"This module will be removed in 0.20.\", DeprecationWarning)\n"
     ]
    }
   ],
   "source": [
    "import cv2\n",
    "import Tkinter as tk\n",
    "import tkFileDialog\n",
    "import os\n",
    "import numpy as np\n",
    "import tensorflow as tf\n",
    "import pandas as pd\n",
    "import matplotlib.pyplot as plt\n",
    "from sklearn.preprocessing import LabelEncoder\n",
    "from keras.utils import np_utils\n",
    "from keras.models import Sequential\n",
    "from keras.layers import  Flatten, Dense, Activation,Convolution2D,MaxPooling2D\n",
    "from sklearn.cross_validation import train_test_split\n",
    "from keras.optimizers import Adam\n",
    "from keras.callbacks import EarlyStopping\n",
    "from keras import backend as K\n",
    "from image_Preprocessing import load_images,resize_images\n",
    "import random\n",
    "%matplotlib inline"
   ]
  },
  {
   "cell_type": "code",
   "execution_count": 3,
   "metadata": {},
   "outputs": [
    {
     "name": "stdout",
     "output_type": "stream",
     "text": [
      "/home/edward/Final Images/Training Images\n"
     ]
    }
   ],
   "source": [
    "tk.Tk().withdraw()\n",
    "path_Train=tkFileDialog.askdirectory()\n",
    "print path_Train\n"
   ]
  },
  {
   "cell_type": "code",
   "execution_count": 4,
   "metadata": {
    "collapsed": true
   },
   "outputs": [],
   "source": [
    "X_Train=load_images(path_Train)"
   ]
  },
  {
   "cell_type": "code",
   "execution_count": 5,
   "metadata": {},
   "outputs": [
    {
     "data": {
      "text/plain": [
       "(2000, 64, 64, 3)"
      ]
     },
     "execution_count": 5,
     "metadata": {},
     "output_type": "execute_result"
    }
   ],
   "source": [
    "X_Train=np.array(X_Train)\n",
    "X_Train.shape"
   ]
  },
  {
   "cell_type": "code",
   "execution_count": 6,
   "metadata": {},
   "outputs": [
    {
     "name": "stdout",
     "output_type": "stream",
     "text": [
      "/home/edward/Final Images/Testing Images\n"
     ]
    }
   ],
   "source": [
    "tk.Tk().withdraw()\n",
    "path_Test=tkFileDialog.askdirectory()\n",
    "print path_Test\n"
   ]
  },
  {
   "cell_type": "code",
   "execution_count": 7,
   "metadata": {
    "collapsed": true
   },
   "outputs": [],
   "source": [
    "X_Test=load_images(path_Test)"
   ]
  },
  {
   "cell_type": "code",
   "execution_count": 8,
   "metadata": {},
   "outputs": [
    {
     "data": {
      "text/plain": [
       "(600, 64, 64, 3)"
      ]
     },
     "execution_count": 8,
     "metadata": {},
     "output_type": "execute_result"
    }
   ],
   "source": [
    "X_Test=np.array(X_Test)\n",
    "X_Test.shape"
   ]
  },
  {
   "cell_type": "code",
   "execution_count": 9,
   "metadata": {
    "collapsed": true
   },
   "outputs": [],
   "source": [
    "data_Train=pd.read_csv(\"/home/edward/Skin Cancer Data/ISIC-2017_Training_Part3_GroundTruth.csv\")\n",
    "data_Test=pd.read_csv(\"/home/edward/Skin Cancer Data/ISIC-2017_Test_v2_Part3_GroundTruth.csv\")"
   ]
  },
  {
   "cell_type": "code",
   "execution_count": 10,
   "metadata": {},
   "outputs": [
    {
     "name": "stdout",
     "output_type": "stream",
     "text": [
      "(2000,)\n",
      "(600,)\n"
     ]
    }
   ],
   "source": [
    "data_Train=data_Train.iloc[0:2000,1]\n",
    "data_Test=data_Test.iloc[0:600,1]\n",
    "print data_Train.shape\n",
    "print data_Test.shape"
   ]
  },
  {
   "cell_type": "code",
   "execution_count": 11,
   "metadata": {
    "collapsed": true
   },
   "outputs": [],
   "source": [
    "y_Train = LabelEncoder().fit_transform(data_Train)\n",
    "y_Train = np_utils.to_categorical(y_Train)\n",
    "y_Test = LabelEncoder().fit_transform(data_Test)\n",
    "y_Test = np_utils.to_categorical(y_Test)"
   ]
  },
  {
   "cell_type": "code",
   "execution_count": 12,
   "metadata": {},
   "outputs": [
    {
     "name": "stdout",
     "output_type": "stream",
     "text": [
      "(2000, 2)\n",
      "(600, 2)\n"
     ]
    }
   ],
   "source": [
    "print y_Train.shape\n",
    "print y_Test.shape"
   ]
  },
  {
   "cell_type": "markdown",
   "metadata": {},
   "source": [
    "### Neural Network with two layers"
   ]
  },
  {
   "cell_type": "code",
   "execution_count": 14,
   "metadata": {},
   "outputs": [],
   "source": [
    "Optimizer=Adam(lr=0.001)\n",
    "objective='binary_crossentropy'\n",
    "def center_normalize(x):\n",
    "    return (x-K.mean(x))/K.std(x)\n",
    "model=Sequential()\n",
    "model.add(Activation(activation=center_normalize, input_shape=(64, 64,3)))\n",
    "model.add(Flatten())\n",
    "model.add(Dense(256, activation='sigmoid'))\n",
    "\n",
    "model.add(Dense(256, activation='relu'))\n",
    "model.add(Dense(256, activation='sigmoid'))\n",
    "\n",
    "\n",
    "model.add(Dense(y_Train.shape[1]))\n",
    "model.add(Activation('sigmoid'))\n",
    "model.compile(loss=objective,optimizer=Optimizer,metrics=['accuracy'])"
   ]
  },
  {
   "cell_type": "code",
   "execution_count": 16,
   "metadata": {},
   "outputs": [
    {
     "name": "stderr",
     "output_type": "stream",
     "text": [
      "/home/edward/anaconda2/lib/python2.7/site-packages/keras/models.py:826: UserWarning: The `nb_epoch` argument in `fit` has been renamed `epochs`.\n",
      "  warnings.warn('The `nb_epoch` argument in `fit` '\n"
     ]
    },
    {
     "name": "stdout",
     "output_type": "stream",
     "text": [
      "Epoch 1/50\n",
      "2000/2000 [==============================] - 6s - loss: 0.5521 - acc: 0.7505     \n",
      "Epoch 2/50\n",
      "2000/2000 [==============================] - 0s - loss: 0.4768 - acc: 0.8130     \n",
      "Epoch 3/50\n",
      "2000/2000 [==============================] - 0s - loss: 0.4684 - acc: 0.8130     \n",
      "Epoch 4/50\n",
      "2000/2000 [==============================] - 0s - loss: 0.4652 - acc: 0.8132     \n",
      "Epoch 5/50\n",
      "2000/2000 [==============================] - 0s - loss: 0.4549 - acc: 0.8130     \n",
      "Epoch 6/50\n",
      "2000/2000 [==============================] - 0s - loss: 0.4496 - acc: 0.8162     \n",
      "Epoch 7/50\n",
      "2000/2000 [==============================] - 0s - loss: 0.4454 - acc: 0.8150     \n",
      "Epoch 8/50\n",
      "2000/2000 [==============================] - 0s - loss: 0.4434 - acc: 0.8172     \n",
      "Epoch 9/50\n",
      "2000/2000 [==============================] - 0s - loss: 0.4432 - acc: 0.8180     \n",
      "Epoch 10/50\n",
      "2000/2000 [==============================] - 0s - loss: 0.4428 - acc: 0.8167     \n",
      "Epoch 11/50\n",
      "2000/2000 [==============================] - 0s - loss: 0.4345 - acc: 0.8170     \n",
      "Epoch 12/50\n",
      "2000/2000 [==============================] - 0s - loss: 0.4296 - acc: 0.8195     \n",
      "Epoch 13/50\n",
      "2000/2000 [==============================] - 0s - loss: 0.4365 - acc: 0.8202     \n",
      "Epoch 14/50\n",
      "2000/2000 [==============================] - 0s - loss: 0.4278 - acc: 0.8212     \n",
      "Epoch 15/50\n",
      "2000/2000 [==============================] - 0s - loss: 0.4292 - acc: 0.8202     \n",
      "Epoch 16/50\n",
      "2000/2000 [==============================] - 0s - loss: 0.4166 - acc: 0.8242     \n",
      "Epoch 17/50\n",
      "2000/2000 [==============================] - 0s - loss: 0.4155 - acc: 0.8207     \n",
      "Epoch 18/50\n",
      "2000/2000 [==============================] - 0s - loss: 0.4106 - acc: 0.8237     \n",
      "Epoch 19/50\n",
      "2000/2000 [==============================] - 0s - loss: 0.4110 - acc: 0.8242     \n",
      "Epoch 20/50\n",
      "2000/2000 [==============================] - 0s - loss: 0.4171 - acc: 0.8192     \n",
      "Epoch 21/50\n",
      "2000/2000 [==============================] - 0s - loss: 0.3957 - acc: 0.8282     \n",
      "Epoch 22/50\n",
      "2000/2000 [==============================] - 0s - loss: 0.3926 - acc: 0.8305     \n",
      "Epoch 23/50\n",
      "2000/2000 [==============================] - 0s - loss: 0.3918 - acc: 0.8360     \n",
      "Epoch 24/50\n",
      "2000/2000 [==============================] - 0s - loss: 0.3938 - acc: 0.8317     \n",
      "Epoch 25/50\n",
      "2000/2000 [==============================] - 0s - loss: 0.4017 - acc: 0.8270     \n",
      "Epoch 26/50\n",
      "2000/2000 [==============================] - 0s - loss: 0.3949 - acc: 0.8360     \n",
      "Epoch 27/50\n",
      "2000/2000 [==============================] - 0s - loss: 0.3892 - acc: 0.8385     \n",
      "Epoch 28/50\n",
      "2000/2000 [==============================] - 0s - loss: 0.3855 - acc: 0.8345     \n",
      "Epoch 29/50\n",
      "2000/2000 [==============================] - 0s - loss: 0.3844 - acc: 0.8345     \n",
      "Epoch 30/50\n",
      "2000/2000 [==============================] - 0s - loss: 0.3792 - acc: 0.8397     \n",
      "Epoch 31/50\n",
      "2000/2000 [==============================] - 0s - loss: 0.3814 - acc: 0.8360     \n",
      "Epoch 32/50\n",
      "2000/2000 [==============================] - 0s - loss: 0.3895 - acc: 0.8377     \n",
      "Epoch 33/50\n",
      "2000/2000 [==============================] - 0s - loss: 0.3914 - acc: 0.8377     \n",
      "Epoch 34/50\n",
      "2000/2000 [==============================] - 0s - loss: 0.3641 - acc: 0.8455     \n",
      "Epoch 35/50\n",
      "2000/2000 [==============================] - 0s - loss: 0.3487 - acc: 0.8520     \n",
      "Epoch 36/50\n",
      "2000/2000 [==============================] - 0s - loss: 0.3637 - acc: 0.8463     \n",
      "Epoch 37/50\n",
      "2000/2000 [==============================] - 0s - loss: 0.3618 - acc: 0.8445     \n",
      "Epoch 38/50\n",
      "2000/2000 [==============================] - 0s - loss: 0.3512 - acc: 0.8482     \n",
      "Epoch 39/50\n",
      "2000/2000 [==============================] - 0s - loss: 0.3631 - acc: 0.8372     \n",
      "Epoch 40/50\n",
      "2000/2000 [==============================] - 0s - loss: 0.3669 - acc: 0.8447     \n",
      "Epoch 41/50\n",
      "2000/2000 [==============================] - ETA: 0s - loss: 0.3632 - acc: 0.843 - 0s - loss: 0.3603 - acc: 0.8465     \n",
      "Epoch 42/50\n",
      "2000/2000 [==============================] - 0s - loss: 0.3506 - acc: 0.8540     \n",
      "Epoch 43/50\n",
      "2000/2000 [==============================] - 0s - loss: 0.3365 - acc: 0.8530     \n",
      "Epoch 44/50\n",
      "2000/2000 [==============================] - 0s - loss: 0.3256 - acc: 0.8618     \n",
      "Epoch 45/50\n",
      "2000/2000 [==============================] - 0s - loss: 0.3538 - acc: 0.8512     \n",
      "Epoch 46/50\n",
      "2000/2000 [==============================] - 0s - loss: 0.3407 - acc: 0.8535     \n",
      "Epoch 47/50\n",
      "2000/2000 [==============================] - 0s - loss: 0.3314 - acc: 0.8640     \n",
      "Epoch 48/50\n",
      "2000/2000 [==============================] - 0s - loss: 0.3444 - acc: 0.8525     \n",
      "Epoch 49/50\n",
      "2000/2000 [==============================] - 0s - loss: 0.3415 - acc: 0.8582     \n",
      "Epoch 50/50\n",
      "2000/2000 [==============================] - 0s - loss: 0.3127 - acc: 0.8648     \n"
     ]
    },
    {
     "data": {
      "text/plain": [
       "<keras.callbacks.History at 0x7f04768d98d0>"
      ]
     },
     "execution_count": 16,
     "metadata": {},
     "output_type": "execute_result"
    }
   ],
   "source": [
    "model.fit(X_Train,y_Train,batch_size=100,nb_epoch=50,verbose=1)"
   ]
  },
  {
   "cell_type": "code",
   "execution_count": 17,
   "metadata": {},
   "outputs": [
    {
     "name": "stdout",
     "output_type": "stream",
     "text": [
      "480/600 [=======================>......] - ETA: 0s\n",
      "acc: 73.08%\n"
     ]
    }
   ],
   "source": [
    "scores = model.evaluate(X_Test, y_Test)\n",
    "print \"\\n%s: %.2f%%\" % (model.metrics_names[1], scores[1]*100)"
   ]
  },
  {
   "cell_type": "markdown",
   "metadata": {},
   "source": [
    "### Convolutional Neural Network with 4 layers"
   ]
  },
  {
   "cell_type": "code",
   "execution_count": 18,
   "metadata": {},
   "outputs": [
    {
     "name": "stderr",
     "output_type": "stream",
     "text": [
      "/home/edward/anaconda2/lib/python2.7/site-packages/ipykernel/__main__.py:9: UserWarning: Update your `Conv2D` call to the Keras 2 API: `Conv2D(32, (5, 5), padding=\"same\", activation=\"relu\", data_format=\"channels_last\")`\n",
      "/home/edward/anaconda2/lib/python2.7/site-packages/ipykernel/__main__.py:11: UserWarning: Update your `MaxPooling2D` call to the Keras 2 API: `MaxPooling2D(data_format=\"channels_last\", pool_size=(2, 2))`\n"
     ]
    }
   ],
   "source": [
    "Optimizer=Adam(lr=0.001)\n",
    "objective='binary_crossentropy'\n",
    "def center_normalize(x):\n",
    "    return (x-K.mean(x))/K.std(x)\n",
    "model=Sequential()\n",
    "#input layer\n",
    "model.add(Activation(activation=center_normalize, input_shape=(64, 64,3)))\n",
    "# convolutional layer\n",
    "model.add(Convolution2D(32,5,5,border_mode='same',activation='relu',dim_ordering='tf'))\n",
    "#pooling layer\n",
    "model.add(MaxPooling2D(pool_size=(2,2),dim_ordering='tf'))\n",
    "model.add(Flatten())\n",
    "# Relu \n",
    "model.add(Dense(128, activation='relu'))\n",
    "# Sigmoid Fully connected layer\n",
    "model.add(Dense(y_Train.shape[1]))\n",
    "model.add(Activation('sigmoid'))\n",
    "model.compile(loss=objective,optimizer=Optimizer,metrics=['accuracy'])"
   ]
  },
  {
   "cell_type": "code",
   "execution_count": 19,
   "metadata": {},
   "outputs": [
    {
     "name": "stdout",
     "output_type": "stream",
     "text": [
      "Epoch 1/15\n",
      "2000/2000 [==============================] - 2s - loss: 1.5838 - acc: 0.7460     \n",
      "Epoch 2/15\n",
      "2000/2000 [==============================] - 0s - loss: 0.5977 - acc: 0.8105     \n",
      "Epoch 3/15\n",
      "2000/2000 [==============================] - 0s - loss: 0.5217 - acc: 0.8107     \n",
      "Epoch 4/15\n",
      "2000/2000 [==============================] - 0s - loss: 0.4872 - acc: 0.8122     \n",
      "Epoch 5/15\n",
      "2000/2000 [==============================] - 0s - loss: 0.4636 - acc: 0.8150     \n",
      "Epoch 6/15\n",
      "2000/2000 [==============================] - 0s - loss: 0.4470 - acc: 0.8150     \n",
      "Epoch 7/15\n",
      "2000/2000 [==============================] - 0s - loss: 0.4341 - acc: 0.8190     \n",
      "Epoch 8/15\n",
      "2000/2000 [==============================] - 0s - loss: 0.4223 - acc: 0.8210     \n",
      "Epoch 9/15\n",
      "2000/2000 [==============================] - 0s - loss: 0.4139 - acc: 0.8192     \n",
      "Epoch 10/15\n",
      "2000/2000 [==============================] - 0s - loss: 0.3973 - acc: 0.8247     \n",
      "Epoch 11/15\n",
      "2000/2000 [==============================] - 0s - loss: 0.3894 - acc: 0.8245     \n",
      "Epoch 12/15\n",
      "2000/2000 [==============================] - 0s - loss: 0.3726 - acc: 0.8303     \n",
      "Epoch 13/15\n",
      "2000/2000 [==============================] - 0s - loss: 0.3621 - acc: 0.8335     \n",
      "Epoch 14/15\n",
      "2000/2000 [==============================] - 0s - loss: 0.3466 - acc: 0.8402     \n",
      "Epoch 15/15\n",
      "2000/2000 [==============================] - 0s - loss: 0.3284 - acc: 0.8483     \n"
     ]
    },
    {
     "data": {
      "text/plain": [
       "<keras.callbacks.History at 0x7f046c738f10>"
      ]
     },
     "execution_count": 19,
     "metadata": {},
     "output_type": "execute_result"
    }
   ],
   "source": [
    "model.fit(X_Train,y_Train,batch_size=200,nb_epoch=15,verbose=1)"
   ]
  },
  {
   "cell_type": "code",
   "execution_count": 20,
   "metadata": {},
   "outputs": [
    {
     "name": "stdout",
     "output_type": "stream",
     "text": [
      "600/600 [==============================] - 0s     \n",
      "\n",
      "acc: 79.67%\n"
     ]
    }
   ],
   "source": [
    "scores = model.evaluate(X_Test, y_Test)\n",
    "print \"\\n%s: %.2f%%\" % (model.metrics_names[1], scores[1]*100)"
   ]
  },
  {
   "cell_type": "markdown",
   "metadata": {},
   "source": [
    "### Convolutional Neural network with 6 layers"
   ]
  },
  {
   "cell_type": "code",
   "execution_count": 22,
   "metadata": {},
   "outputs": [
    {
     "name": "stderr",
     "output_type": "stream",
     "text": [
      "/home/edward/anaconda2/lib/python2.7/site-packages/ipykernel/__main__.py:9: UserWarning: Update your `Conv2D` call to the Keras 2 API: `Conv2D(32, (5, 5), padding=\"same\", activation=\"relu\", data_format=\"channels_last\")`\n",
      "/home/edward/anaconda2/lib/python2.7/site-packages/ipykernel/__main__.py:11: UserWarning: Update your `MaxPooling2D` call to the Keras 2 API: `MaxPooling2D(data_format=\"channels_last\", pool_size=(2, 2))`\n",
      "/home/edward/anaconda2/lib/python2.7/site-packages/ipykernel/__main__.py:13: UserWarning: Update your `Conv2D` call to the Keras 2 API: `Conv2D(64, (3, 3), padding=\"same\", activation=\"relu\", data_format=\"channels_last\")`\n",
      "/home/edward/anaconda2/lib/python2.7/site-packages/ipykernel/__main__.py:15: UserWarning: Update your `MaxPooling2D` call to the Keras 2 API: `MaxPooling2D(data_format=\"channels_last\", pool_size=(2, 2))`\n"
     ]
    }
   ],
   "source": [
    "Optimizer=Adam(lr=0.001)\n",
    "objective='binary_crossentropy'\n",
    "def center_normalize(x):\n",
    "    return (x-K.mean(x))/K.std(x)\n",
    "model=Sequential()\n",
    "#input layer\n",
    "model.add(Activation(activation=center_normalize, input_shape=(64, 64,3)))\n",
    "# convolutional layer\n",
    "model.add(Convolution2D(32,5,5,border_mode='same',activation='relu',dim_ordering='tf'))\n",
    "#pooling layer\n",
    "model.add(MaxPooling2D(pool_size=(2,2),dim_ordering='tf'))\n",
    "# convolutional layer\n",
    "model.add(Convolution2D(64,3,3,border_mode='same',activation='relu',dim_ordering='tf'))\n",
    "# pooling layer\n",
    "model.add(MaxPooling2D(pool_size=(2,2),dim_ordering='tf'))\n",
    "model.add(Flatten())\n",
    "# Relu \n",
    "model.add(Dense(128, activation='relu'))\n",
    "# Sigmoid Fully connected layer\n",
    "model.add(Dense(y_Train.shape[1]))\n",
    "model.add(Activation('sigmoid'))\n",
    "model.compile(loss=objective,optimizer=Optimizer,metrics=['accuracy'])"
   ]
  },
  {
   "cell_type": "code",
   "execution_count": 23,
   "metadata": {},
   "outputs": [
    {
     "name": "stdout",
     "output_type": "stream",
     "text": [
      "Epoch 1/15\n",
      "2000/2000 [==============================] - 0s - loss: 0.7390 - acc: 0.7747     \n",
      "Epoch 2/15\n",
      "2000/2000 [==============================] - 0s - loss: 0.5119 - acc: 0.8130     \n",
      "Epoch 3/15\n",
      "2000/2000 [==============================] - 0s - loss: 0.4937 - acc: 0.8130     \n",
      "Epoch 4/15\n",
      "2000/2000 [==============================] - 0s - loss: 0.4786 - acc: 0.8130     \n",
      "Epoch 5/15\n",
      "2000/2000 [==============================] - 0s - loss: 0.4632 - acc: 0.8130     \n",
      "Epoch 6/15\n",
      "2000/2000 [==============================] - 0s - loss: 0.4509 - acc: 0.8130     \n",
      "Epoch 7/15\n",
      "2000/2000 [==============================] - 0s - loss: 0.4403 - acc: 0.8130     \n",
      "Epoch 8/15\n",
      "2000/2000 [==============================] - 0s - loss: 0.4394 - acc: 0.8130     \n",
      "Epoch 9/15\n",
      "2000/2000 [==============================] - 0s - loss: 0.4492 - acc: 0.8130     \n",
      "Epoch 10/15\n",
      "2000/2000 [==============================] - 0s - loss: 0.4317 - acc: 0.8132     \n",
      "Epoch 11/15\n",
      "2000/2000 [==============================] - 0s - loss: 0.4153 - acc: 0.8130     \n",
      "Epoch 12/15\n",
      "2000/2000 [==============================] - 0s - loss: 0.4085 - acc: 0.8130     \n",
      "Epoch 13/15\n",
      "2000/2000 [==============================] - 0s - loss: 0.3995 - acc: 0.8135     \n",
      "Epoch 14/15\n",
      "2000/2000 [==============================] - 0s - loss: 0.3944 - acc: 0.8130     \n",
      "Epoch 15/15\n",
      "2000/2000 [==============================] - 0s - loss: 0.3800 - acc: 0.8135     \n"
     ]
    },
    {
     "data": {
      "text/plain": [
       "<keras.callbacks.History at 0x7f04345f8410>"
      ]
     },
     "execution_count": 23,
     "metadata": {},
     "output_type": "execute_result"
    }
   ],
   "source": [
    "model.fit(X_Train,y_Train,batch_size=200,nb_epoch=15,verbose=1)"
   ]
  },
  {
   "cell_type": "code",
   "execution_count": 24,
   "metadata": {},
   "outputs": [
    {
     "name": "stdout",
     "output_type": "stream",
     "text": [
      "352/600 [================>.............] - ETA: 0s\n",
      "acc: 80.25%\n"
     ]
    }
   ],
   "source": [
    "scores = model.evaluate(X_Test, y_Test)\n",
    "print \"\\n%s: %.2f%%\" % (model.metrics_names[1], scores[1]*100)"
   ]
  }
 ],
 "metadata": {
  "kernelspec": {
   "display_name": "Python 2",
   "language": "python",
   "name": "python2"
  },
  "language_info": {
   "codemirror_mode": {
    "name": "ipython",
    "version": 2
   },
   "file_extension": ".py",
   "mimetype": "text/x-python",
   "name": "python",
   "nbconvert_exporter": "python",
   "pygments_lexer": "ipython2",
   "version": "2.7.13"
  }
 },
 "nbformat": 4,
 "nbformat_minor": 2
}
