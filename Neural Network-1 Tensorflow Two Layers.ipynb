{
 "cells": [
  {
   "cell_type": "code",
   "execution_count": 1,
   "metadata": {
    "collapsed": false,
    "deletable": true,
    "editable": true
   },
   "outputs": [
    {
     "name": "stderr",
     "output_type": "stream",
     "text": [
      "Using TensorFlow backend.\n"
     ]
    }
   ],
   "source": [
    "import cv2\n",
    "import Tkinter as tk\n",
    "import tkFileDialog\n",
    "import os\n",
    "import numpy as np\n",
    "import tensorflow as tf\n",
    "import pandas as pd\n",
    "import matplotlib.pyplot as plt\n",
    "from sklearn.preprocessing import LabelEncoder\n",
    "from Preprocessing import load_images,resize_images\n",
    "from keras.utils import np_utils\n",
    "%matplotlib inline"
   ]
  },
  {
   "cell_type": "code",
   "execution_count": 2,
   "metadata": {
    "collapsed": false
   },
   "outputs": [
    {
     "name": "stdout",
     "output_type": "stream",
     "text": [
      "/home/edward/project /Untitled Folder\n"
     ]
    }
   ],
   "source": [
    "tk.Tk().withdraw()\n",
    "path_Train=tkFileDialog.askdirectory()\n",
    "print path_Train"
   ]
  },
  {
   "cell_type": "code",
   "execution_count": 3,
   "metadata": {
    "collapsed": false
   },
   "outputs": [],
   "source": [
    "X_Train=load_images(path_Train)\n",
    "X_Train=resize_images(X_Train)"
   ]
  },
  {
   "cell_type": "code",
   "execution_count": 4,
   "metadata": {
    "collapsed": false
   },
   "outputs": [
    {
     "data": {
      "text/plain": [
       "(1000, 64, 64, 3)"
      ]
     },
     "execution_count": 4,
     "metadata": {},
     "output_type": "execute_result"
    }
   ],
   "source": [
    "X_Train=np.array(X_Train)\n",
    "X_Train.shape"
   ]
  },
  {
   "cell_type": "code",
   "execution_count": 5,
   "metadata": {
    "collapsed": false
   },
   "outputs": [
    {
     "data": {
      "text/plain": [
       "(1000, 12288)"
      ]
     },
     "execution_count": 5,
     "metadata": {},
     "output_type": "execute_result"
    }
   ],
   "source": [
    "X_Train=np.reshape(X_Train,[-1,np.prod(X_Train.shape[1:])])\n",
    "X_Train.shape"
   ]
  },
  {
   "cell_type": "code",
   "execution_count": 6,
   "metadata": {
    "collapsed": false
   },
   "outputs": [
    {
     "name": "stdout",
     "output_type": "stream",
     "text": [
      "/home/edward/project /Untitled Folder 2\n"
     ]
    }
   ],
   "source": [
    "tk.Tk().withdraw()\n",
    "path_Test=tkFileDialog.askdirectory()\n",
    "print path_Test"
   ]
  },
  {
   "cell_type": "code",
   "execution_count": 7,
   "metadata": {
    "collapsed": true
   },
   "outputs": [],
   "source": [
    "X_Test=load_images(path_Test)\n",
    "X_Test=resize_images(X_Test)"
   ]
  },
  {
   "cell_type": "code",
   "execution_count": 8,
   "metadata": {
    "collapsed": false
   },
   "outputs": [
    {
     "data": {
      "text/plain": [
       "(300, 64, 64, 3)"
      ]
     },
     "execution_count": 8,
     "metadata": {},
     "output_type": "execute_result"
    }
   ],
   "source": [
    "X_Test=np.array(X_Test)\n",
    "X_Test.shape"
   ]
  },
  {
   "cell_type": "code",
   "execution_count": 9,
   "metadata": {
    "collapsed": false
   },
   "outputs": [
    {
     "data": {
      "text/plain": [
       "(300, 12288)"
      ]
     },
     "execution_count": 9,
     "metadata": {},
     "output_type": "execute_result"
    }
   ],
   "source": [
    "X_Test=np.reshape(X_Test,[-1,np.prod(X_Test.shape[1:])])\n",
    "X_Test.shape"
   ]
  },
  {
   "cell_type": "code",
   "execution_count": 10,
   "metadata": {
    "collapsed": true
   },
   "outputs": [],
   "source": [
    "data_Train=pd.read_csv(\"/home/edward/Skin Cancer Data/ISIC-2017_Training_Part3_GroundTruth.csv\")\n",
    "data_Test=pd.read_csv(\"/home/edward/Skin Cancer Data/ISIC-2017_Test_v2_Part3_GroundTruth.csv\")"
   ]
  },
  {
   "cell_type": "code",
   "execution_count": 11,
   "metadata": {
    "collapsed": false
   },
   "outputs": [
    {
     "name": "stdout",
     "output_type": "stream",
     "text": [
      "(1000,)\n",
      "(300,)\n"
     ]
    }
   ],
   "source": [
    "data_Train=data_Train.iloc[0:1000,1]\n",
    "data_Test=data_Test.iloc[0:300,1]\n",
    "print data_Train.shape\n",
    "print data_Test.shape"
   ]
  },
  {
   "cell_type": "code",
   "execution_count": 12,
   "metadata": {
    "collapsed": true
   },
   "outputs": [],
   "source": [
    "y_Train=data_Train\n",
    "y_test=data_Test"
   ]
  },
  {
   "cell_type": "code",
   "execution_count": 13,
   "metadata": {
    "collapsed": false
   },
   "outputs": [],
   "source": [
    "y_Train=np.array(y_Train)\n",
    "y_Test=np.array(y_test)"
   ]
  },
  {
   "cell_type": "code",
   "execution_count": 23,
   "metadata": {
    "collapsed": true
   },
   "outputs": [],
   "source": [
    "y_Train = np_utils.to_categorical(data_Train)\n",
    "y_Test = np_utils.to_categorical(data_Test)"
   ]
  },
  {
   "cell_type": "code",
   "execution_count": 24,
   "metadata": {
    "collapsed": false,
    "deletable": true,
    "editable": true
   },
   "outputs": [],
   "source": [
    "learning_rate=0.001\n",
    "training_epoch=15\n",
    "batch_size=100\n",
    "display_step=1\n",
    "\n",
    "n_hidden_1=256\n",
    "n_hidden_2=256\n",
    "#n_hidden_3=256\n",
    "#n_hidden_4=256\n",
    "n_input=64*64*3\n",
    "n_classes=2\n",
    "\n",
    "x=tf.placeholder(\"float\",[None,n_input])\n",
    "y=tf.placeholder(\"float\",[None,n_classes])"
   ]
  },
  {
   "cell_type": "code",
   "execution_count": 25,
   "metadata": {
    "collapsed": false,
    "deletable": true,
    "editable": true
   },
   "outputs": [],
   "source": [
    "def multiplayer_perceptron(x,weights,biases):\n",
    "    # first layer\n",
    "    #with tf.device('/gpu:0'):\n",
    "    #x=tf.reshape(x,shape=[-1,64,64,1])\n",
    "    layer_1=tf.add(tf.matmul(x,weights['h1']),biases['b1'])\n",
    "    layer_1=tf.nn.sigmoid(layer_1)\n",
    "    # second layer\n",
    "    #with tf.device('/gpu:1'):\n",
    "    layer_2=tf.add(tf.matmul(layer_1,weights['h2']),biases['b2'])\n",
    "    layer_2=tf.nn.sigmoid(layer_2)\n",
    "    out_layer=tf.matmul(layer_2,weights['out'])+biases['out']\n",
    "    return out_layer"
   ]
  },
  {
   "cell_type": "code",
   "execution_count": 26,
   "metadata": {
    "collapsed": false,
    "deletable": true,
    "editable": true
   },
   "outputs": [],
   "source": [
    "# store layer weights and biases\n",
    "weights={\n",
    "    'h1':tf.Variable(tf.random_normal([n_input,n_hidden_1])),\n",
    "    'h2':tf.Variable(tf.random_normal([n_hidden_1,n_hidden_2])),\n",
    "    #'h3':tf.Variable(tf.random_normal([n_hidden_2,n_hidden_3])),\n",
    "    #'h4':tf.Variable(tf.random_normal([n_hidden_3,n_hidden_4])),\n",
    "    'out':tf.Variable(tf.random_normal([n_hidden_1,n_classes]))\n",
    "}\n",
    "\n",
    "biases={\n",
    "    'b1':tf.Variable(tf.random_normal([n_hidden_1])),\n",
    "    'b2':tf.Variable(tf.random_normal([n_hidden_2])),\n",
    "    #'b3':tf.Variable(tf.random_normal([n_hidden_3])),\n",
    "    #'b4':tf.Variable(tf.random_normal([n_hidden_4])),\n",
    "    'out':tf.Variable(tf.random_normal([n_classes]))\n",
    "}\n",
    "\n",
    "pred=multiplayer_perceptron(x,weights,biases)\n",
    "\n",
    "# define loss and optimizer\n",
    "cost=tf.reduce_mean(tf.nn.softmax_cross_entropy_with_logits(logits=pred,labels=y))\n",
    "optimizer=tf.train.AdamOptimizer(learning_rate=learning_rate).minimize(cost)\n",
    "\n",
    "# initilizing the variables\n",
    "init=tf.global_variables_initializer()"
   ]
  },
  {
   "cell_type": "code",
   "execution_count": 27,
   "metadata": {
    "collapsed": false,
    "deletable": true,
    "editable": true
   },
   "outputs": [
    {
     "name": "stdout",
     "output_type": "stream",
     "text": [
      "Epoch: 0001 cost= 0.935098482\n",
      "Epoch: 0002 cost= 0.541201333\n",
      "Epoch: 0003 cost= 0.473259940\n",
      "Epoch: 0004 cost= 0.442054223\n",
      "Epoch: 0005 cost= 0.423836977\n",
      "Epoch: 0006 cost= 0.414114114\n",
      "Epoch: 0007 cost= 0.398480723\n",
      "Epoch: 0008 cost= 0.389212115\n",
      "Epoch: 0009 cost= 0.384990033\n",
      "Epoch: 0010 cost= 0.381455972\n",
      "Epoch: 0011 cost= 0.382867136\n",
      "Epoch: 0012 cost= 0.382066308\n",
      "Epoch: 0013 cost= 0.374688090\n",
      "Epoch: 0014 cost= 0.378596547\n",
      "Epoch: 0015 cost= 0.367584141\n",
      "Optimization Finished\n",
      "Training Accuracy: 0.88\n",
      "Testing Accuracy: 0.68\n"
     ]
    }
   ],
   "source": [
    "# launch the graph\n",
    "with tf.Session() as sess:\n",
    "    sess.run(init)\n",
    "    \n",
    "    # Training \n",
    "    \n",
    "    for epoch in range(training_epoch):\n",
    "        avg_cost=0\n",
    "        for i in range(batch_size):\n",
    "            train_idx=np.random.randint(X_Train.shape[0],size=100)\n",
    "            batch_x_Train=X_Train[train_idx,:]\n",
    "            batch_y_Train=y_Train[train_idx]\n",
    "            _,c=sess.run([optimizer,cost],feed_dict={x:batch_x_Train,y:batch_y_Train})\n",
    "            avg_cost+=c/batch_size\n",
    "            \n",
    "        if epoch%display_step==0:\n",
    "            print \"Epoch:\", '%04d' % (epoch+1), \"cost=\", \\\n",
    "                \"{:.9f}\".format(avg_cost)\n",
    "    print \"Optimization Finished\"\n",
    "    \n",
    "    Predictions=tf.equal(tf.argmax(pred,1),tf.argmax(y,1))\n",
    "    accuracy=tf.reduce_mean(tf.cast(Predictions,\"float\"))\n",
    "    test_idx=np.random.randint(X_Test.shape[0],size=100)\n",
    "    batch_x_Test=X_Test[test_idx,:]\n",
    "    batch_y_Test=y_Test[test_idx]\n",
    "    print \"Training Accuracy:\" ,accuracy.eval({x:batch_x_Train,y:batch_y_Train})\n",
    "    print \"Testing Accuracy:\" ,accuracy.eval({x:batch_x_Test,y:batch_y_Test})"
   ]
  }
 ],
 "metadata": {
  "kernelspec": {
   "display_name": "Python 2",
   "language": "python",
   "name": "python2"
  },
  "language_info": {
   "codemirror_mode": {
    "name": "ipython",
    "version": 2
   },
   "file_extension": ".py",
   "mimetype": "text/x-python",
   "name": "python",
   "nbconvert_exporter": "python",
   "pygments_lexer": "ipython2",
   "version": "2.7.13"
  }
 },
 "nbformat": 4,
 "nbformat_minor": 2
}
